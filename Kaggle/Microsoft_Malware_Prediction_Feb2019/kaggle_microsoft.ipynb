{
 "cells": [
  {
   "cell_type": "markdown",
   "metadata": {},
   "source": [
    "https://docs.google.com/spreadsheets/d/1WSCOH98TS7zpwkWU5DE4-77I3bRuT9Sd5AAQRTkD81s/edit#gid=0"
   ]
  },
  {
   "cell_type": "code",
   "execution_count": 1,
   "metadata": {
    "collapsed": true
   },
   "outputs": [],
   "source": [
    "import pandas as pd\n",
    "import numpy as np"
   ]
  },
  {
   "cell_type": "code",
   "execution_count": 2,
   "metadata": {
    "collapsed": true
   },
   "outputs": [],
   "source": [
    "import matplotlib.pyplot as plt\n",
    "import seaborn as sns\n",
    "% matplotlib inline"
   ]
  },
  {
   "cell_type": "code",
   "execution_count": 3,
   "metadata": {},
   "outputs": [
    {
     "name": "stderr",
     "output_type": "stream",
     "text": [
      "/root/anaconda3/lib/python3.6/site-packages/pandas_profiling/plot.py:15: UserWarning: matplotlib.pyplot as already been imported, this call will have no effect.\n",
      "  matplotlib.use(BACKEND)\n"
     ]
    }
   ],
   "source": [
    "import pandas_profiling"
   ]
  },
  {
   "cell_type": "code",
   "execution_count": 3,
   "metadata": {
    "collapsed": true
   },
   "outputs": [],
   "source": [
    "from sklearn import preprocessing"
   ]
  },
  {
   "cell_type": "code",
   "execution_count": 5,
   "metadata": {},
   "outputs": [
    {
     "name": "stderr",
     "output_type": "stream",
     "text": [
      "/root/anaconda3/lib/python3.6/site-packages/IPython/core/interactiveshell.py:2698: DtypeWarning: Columns (28) have mixed types. Specify dtype option on import or set low_memory=False.\n",
      "  interactivity=interactivity, compiler=compiler, result=result)\n"
     ]
    },
    {
     "data": {
      "text/html": [
       "<div>\n",
       "<style>\n",
       "    .dataframe thead tr:only-child th {\n",
       "        text-align: right;\n",
       "    }\n",
       "\n",
       "    .dataframe thead th {\n",
       "        text-align: left;\n",
       "    }\n",
       "\n",
       "    .dataframe tbody tr th {\n",
       "        vertical-align: top;\n",
       "    }\n",
       "</style>\n",
       "<table border=\"1\" class=\"dataframe\">\n",
       "  <thead>\n",
       "    <tr style=\"text-align: right;\">\n",
       "      <th></th>\n",
       "      <th>MachineIdentifier</th>\n",
       "      <th>ProductName</th>\n",
       "      <th>EngineVersion</th>\n",
       "      <th>AppVersion</th>\n",
       "      <th>AvSigVersion</th>\n",
       "      <th>IsBeta</th>\n",
       "      <th>RtpStateBitfield</th>\n",
       "      <th>IsSxsPassiveMode</th>\n",
       "      <th>DefaultBrowsersIdentifier</th>\n",
       "      <th>AVProductStatesIdentifier</th>\n",
       "      <th>...</th>\n",
       "      <th>Census_FirmwareVersionIdentifier</th>\n",
       "      <th>Census_IsSecureBootEnabled</th>\n",
       "      <th>Census_IsWIMBootEnabled</th>\n",
       "      <th>Census_IsVirtualDevice</th>\n",
       "      <th>Census_IsTouchEnabled</th>\n",
       "      <th>Census_IsPenCapable</th>\n",
       "      <th>Census_IsAlwaysOnAlwaysConnectedCapable</th>\n",
       "      <th>Wdft_IsGamer</th>\n",
       "      <th>Wdft_RegionIdentifier</th>\n",
       "      <th>HasDetections</th>\n",
       "    </tr>\n",
       "  </thead>\n",
       "  <tbody>\n",
       "    <tr>\n",
       "      <th>0</th>\n",
       "      <td>0000028988387b115f69f31a3bf04f09</td>\n",
       "      <td>win8defender</td>\n",
       "      <td>1.1.15100.1</td>\n",
       "      <td>4.18.1807.18075</td>\n",
       "      <td>1.273.1735.0</td>\n",
       "      <td>0</td>\n",
       "      <td>7.0</td>\n",
       "      <td>0</td>\n",
       "      <td>NaN</td>\n",
       "      <td>53447.0</td>\n",
       "      <td>...</td>\n",
       "      <td>36144.0</td>\n",
       "      <td>0</td>\n",
       "      <td>NaN</td>\n",
       "      <td>0.0</td>\n",
       "      <td>0</td>\n",
       "      <td>0</td>\n",
       "      <td>0.0</td>\n",
       "      <td>0.0</td>\n",
       "      <td>10.0</td>\n",
       "      <td>0</td>\n",
       "    </tr>\n",
       "    <tr>\n",
       "      <th>1</th>\n",
       "      <td>000007535c3f730efa9ea0b7ef1bd645</td>\n",
       "      <td>win8defender</td>\n",
       "      <td>1.1.14600.4</td>\n",
       "      <td>4.13.17134.1</td>\n",
       "      <td>1.263.48.0</td>\n",
       "      <td>0</td>\n",
       "      <td>7.0</td>\n",
       "      <td>0</td>\n",
       "      <td>NaN</td>\n",
       "      <td>53447.0</td>\n",
       "      <td>...</td>\n",
       "      <td>57858.0</td>\n",
       "      <td>0</td>\n",
       "      <td>NaN</td>\n",
       "      <td>0.0</td>\n",
       "      <td>0</td>\n",
       "      <td>0</td>\n",
       "      <td>0.0</td>\n",
       "      <td>0.0</td>\n",
       "      <td>8.0</td>\n",
       "      <td>0</td>\n",
       "    </tr>\n",
       "    <tr>\n",
       "      <th>2</th>\n",
       "      <td>000007905a28d863f6d0d597892cd692</td>\n",
       "      <td>win8defender</td>\n",
       "      <td>1.1.15100.1</td>\n",
       "      <td>4.18.1807.18075</td>\n",
       "      <td>1.273.1341.0</td>\n",
       "      <td>0</td>\n",
       "      <td>7.0</td>\n",
       "      <td>0</td>\n",
       "      <td>NaN</td>\n",
       "      <td>53447.0</td>\n",
       "      <td>...</td>\n",
       "      <td>52682.0</td>\n",
       "      <td>0</td>\n",
       "      <td>NaN</td>\n",
       "      <td>0.0</td>\n",
       "      <td>0</td>\n",
       "      <td>0</td>\n",
       "      <td>0.0</td>\n",
       "      <td>0.0</td>\n",
       "      <td>3.0</td>\n",
       "      <td>0</td>\n",
       "    </tr>\n",
       "    <tr>\n",
       "      <th>3</th>\n",
       "      <td>00000b11598a75ea8ba1beea8459149f</td>\n",
       "      <td>win8defender</td>\n",
       "      <td>1.1.15100.1</td>\n",
       "      <td>4.18.1807.18075</td>\n",
       "      <td>1.273.1527.0</td>\n",
       "      <td>0</td>\n",
       "      <td>7.0</td>\n",
       "      <td>0</td>\n",
       "      <td>NaN</td>\n",
       "      <td>53447.0</td>\n",
       "      <td>...</td>\n",
       "      <td>20050.0</td>\n",
       "      <td>0</td>\n",
       "      <td>NaN</td>\n",
       "      <td>0.0</td>\n",
       "      <td>0</td>\n",
       "      <td>0</td>\n",
       "      <td>0.0</td>\n",
       "      <td>0.0</td>\n",
       "      <td>3.0</td>\n",
       "      <td>1</td>\n",
       "    </tr>\n",
       "    <tr>\n",
       "      <th>4</th>\n",
       "      <td>000014a5f00daa18e76b81417eeb99fc</td>\n",
       "      <td>win8defender</td>\n",
       "      <td>1.1.15100.1</td>\n",
       "      <td>4.18.1807.18075</td>\n",
       "      <td>1.273.1379.0</td>\n",
       "      <td>0</td>\n",
       "      <td>7.0</td>\n",
       "      <td>0</td>\n",
       "      <td>NaN</td>\n",
       "      <td>53447.0</td>\n",
       "      <td>...</td>\n",
       "      <td>19844.0</td>\n",
       "      <td>0</td>\n",
       "      <td>0.0</td>\n",
       "      <td>0.0</td>\n",
       "      <td>0</td>\n",
       "      <td>0</td>\n",
       "      <td>0.0</td>\n",
       "      <td>0.0</td>\n",
       "      <td>1.0</td>\n",
       "      <td>1</td>\n",
       "    </tr>\n",
       "  </tbody>\n",
       "</table>\n",
       "<p>5 rows × 83 columns</p>\n",
       "</div>"
      ],
      "text/plain": [
       "                  MachineIdentifier   ProductName EngineVersion  \\\n",
       "0  0000028988387b115f69f31a3bf04f09  win8defender   1.1.15100.1   \n",
       "1  000007535c3f730efa9ea0b7ef1bd645  win8defender   1.1.14600.4   \n",
       "2  000007905a28d863f6d0d597892cd692  win8defender   1.1.15100.1   \n",
       "3  00000b11598a75ea8ba1beea8459149f  win8defender   1.1.15100.1   \n",
       "4  000014a5f00daa18e76b81417eeb99fc  win8defender   1.1.15100.1   \n",
       "\n",
       "        AppVersion  AvSigVersion  IsBeta  RtpStateBitfield  IsSxsPassiveMode  \\\n",
       "0  4.18.1807.18075  1.273.1735.0       0               7.0                 0   \n",
       "1     4.13.17134.1    1.263.48.0       0               7.0                 0   \n",
       "2  4.18.1807.18075  1.273.1341.0       0               7.0                 0   \n",
       "3  4.18.1807.18075  1.273.1527.0       0               7.0                 0   \n",
       "4  4.18.1807.18075  1.273.1379.0       0               7.0                 0   \n",
       "\n",
       "   DefaultBrowsersIdentifier  AVProductStatesIdentifier      ...       \\\n",
       "0                        NaN                    53447.0      ...        \n",
       "1                        NaN                    53447.0      ...        \n",
       "2                        NaN                    53447.0      ...        \n",
       "3                        NaN                    53447.0      ...        \n",
       "4                        NaN                    53447.0      ...        \n",
       "\n",
       "   Census_FirmwareVersionIdentifier  Census_IsSecureBootEnabled  \\\n",
       "0                           36144.0                           0   \n",
       "1                           57858.0                           0   \n",
       "2                           52682.0                           0   \n",
       "3                           20050.0                           0   \n",
       "4                           19844.0                           0   \n",
       "\n",
       "   Census_IsWIMBootEnabled  Census_IsVirtualDevice  Census_IsTouchEnabled  \\\n",
       "0                      NaN                     0.0                      0   \n",
       "1                      NaN                     0.0                      0   \n",
       "2                      NaN                     0.0                      0   \n",
       "3                      NaN                     0.0                      0   \n",
       "4                      0.0                     0.0                      0   \n",
       "\n",
       "   Census_IsPenCapable  Census_IsAlwaysOnAlwaysConnectedCapable  Wdft_IsGamer  \\\n",
       "0                    0                                      0.0           0.0   \n",
       "1                    0                                      0.0           0.0   \n",
       "2                    0                                      0.0           0.0   \n",
       "3                    0                                      0.0           0.0   \n",
       "4                    0                                      0.0           0.0   \n",
       "\n",
       "  Wdft_RegionIdentifier HasDetections  \n",
       "0                  10.0             0  \n",
       "1                   8.0             0  \n",
       "2                   3.0             0  \n",
       "3                   3.0             1  \n",
       "4                   1.0             1  \n",
       "\n",
       "[5 rows x 83 columns]"
      ]
     },
     "execution_count": 5,
     "metadata": {},
     "output_type": "execute_result"
    }
   ],
   "source": [
    "train = pd.read_csv('/data/kaggle_microsoft/train.csv')\n",
    "train.head()"
   ]
  },
  {
   "cell_type": "code",
   "execution_count": 8,
   "metadata": {},
   "outputs": [
    {
     "name": "stderr",
     "output_type": "stream",
     "text": [
      "/root/anaconda3/lib/python3.6/site-packages/IPython/core/interactiveshell.py:2698: DtypeWarning: Columns (28) have mixed types. Specify dtype option on import or set low_memory=False.\n",
      "  interactivity=interactivity, compiler=compiler, result=result)\n"
     ]
    },
    {
     "data": {
      "text/html": [
       "<div>\n",
       "<style>\n",
       "    .dataframe thead tr:only-child th {\n",
       "        text-align: right;\n",
       "    }\n",
       "\n",
       "    .dataframe thead th {\n",
       "        text-align: left;\n",
       "    }\n",
       "\n",
       "    .dataframe tbody tr th {\n",
       "        vertical-align: top;\n",
       "    }\n",
       "</style>\n",
       "<table border=\"1\" class=\"dataframe\">\n",
       "  <thead>\n",
       "    <tr style=\"text-align: right;\">\n",
       "      <th></th>\n",
       "      <th>MachineIdentifier</th>\n",
       "      <th>ProductName</th>\n",
       "      <th>EngineVersion</th>\n",
       "      <th>AppVersion</th>\n",
       "      <th>AvSigVersion</th>\n",
       "      <th>IsBeta</th>\n",
       "      <th>RtpStateBitfield</th>\n",
       "      <th>IsSxsPassiveMode</th>\n",
       "      <th>DefaultBrowsersIdentifier</th>\n",
       "      <th>AVProductStatesIdentifier</th>\n",
       "      <th>...</th>\n",
       "      <th>Census_FirmwareManufacturerIdentifier</th>\n",
       "      <th>Census_FirmwareVersionIdentifier</th>\n",
       "      <th>Census_IsSecureBootEnabled</th>\n",
       "      <th>Census_IsWIMBootEnabled</th>\n",
       "      <th>Census_IsVirtualDevice</th>\n",
       "      <th>Census_IsTouchEnabled</th>\n",
       "      <th>Census_IsPenCapable</th>\n",
       "      <th>Census_IsAlwaysOnAlwaysConnectedCapable</th>\n",
       "      <th>Wdft_IsGamer</th>\n",
       "      <th>Wdft_RegionIdentifier</th>\n",
       "    </tr>\n",
       "  </thead>\n",
       "  <tbody>\n",
       "    <tr>\n",
       "      <th>0</th>\n",
       "      <td>0000010489e3af074adeac69c53e555e</td>\n",
       "      <td>win8defender</td>\n",
       "      <td>1.1.15400.5</td>\n",
       "      <td>4.18.1810.5</td>\n",
       "      <td>1.281.501.0</td>\n",
       "      <td>0</td>\n",
       "      <td>7.0</td>\n",
       "      <td>0</td>\n",
       "      <td>NaN</td>\n",
       "      <td>53447.0</td>\n",
       "      <td>...</td>\n",
       "      <td>807.0</td>\n",
       "      <td>8554.0</td>\n",
       "      <td>1</td>\n",
       "      <td>NaN</td>\n",
       "      <td>0.0</td>\n",
       "      <td>0</td>\n",
       "      <td>0</td>\n",
       "      <td>0.0</td>\n",
       "      <td>0.0</td>\n",
       "      <td>7.0</td>\n",
       "    </tr>\n",
       "    <tr>\n",
       "      <th>1</th>\n",
       "      <td>00000176ac758d54827acd545b6315a5</td>\n",
       "      <td>win8defender</td>\n",
       "      <td>1.1.15400.4</td>\n",
       "      <td>4.18.1809.2</td>\n",
       "      <td>1.279.301.0</td>\n",
       "      <td>0</td>\n",
       "      <td>7.0</td>\n",
       "      <td>0</td>\n",
       "      <td>NaN</td>\n",
       "      <td>53447.0</td>\n",
       "      <td>...</td>\n",
       "      <td>554.0</td>\n",
       "      <td>33105.0</td>\n",
       "      <td>1</td>\n",
       "      <td>NaN</td>\n",
       "      <td>0.0</td>\n",
       "      <td>0</td>\n",
       "      <td>0</td>\n",
       "      <td>0.0</td>\n",
       "      <td>1.0</td>\n",
       "      <td>12.0</td>\n",
       "    </tr>\n",
       "    <tr>\n",
       "      <th>2</th>\n",
       "      <td>0000019dcefc128c2d4387c1273dae1d</td>\n",
       "      <td>win8defender</td>\n",
       "      <td>1.1.15300.6</td>\n",
       "      <td>4.18.1809.2</td>\n",
       "      <td>1.277.230.0</td>\n",
       "      <td>0</td>\n",
       "      <td>7.0</td>\n",
       "      <td>0</td>\n",
       "      <td>NaN</td>\n",
       "      <td>49480.0</td>\n",
       "      <td>...</td>\n",
       "      <td>556.0</td>\n",
       "      <td>63396.0</td>\n",
       "      <td>1</td>\n",
       "      <td>NaN</td>\n",
       "      <td>0.0</td>\n",
       "      <td>0</td>\n",
       "      <td>0</td>\n",
       "      <td>0.0</td>\n",
       "      <td>1.0</td>\n",
       "      <td>11.0</td>\n",
       "    </tr>\n",
       "    <tr>\n",
       "      <th>3</th>\n",
       "      <td>0000055553dc51b1295785415f1a224d</td>\n",
       "      <td>win8defender</td>\n",
       "      <td>1.1.15400.5</td>\n",
       "      <td>4.18.1810.5</td>\n",
       "      <td>1.281.664.0</td>\n",
       "      <td>0</td>\n",
       "      <td>7.0</td>\n",
       "      <td>0</td>\n",
       "      <td>NaN</td>\n",
       "      <td>42160.0</td>\n",
       "      <td>...</td>\n",
       "      <td>628.0</td>\n",
       "      <td>26320.0</td>\n",
       "      <td>1</td>\n",
       "      <td>0.0</td>\n",
       "      <td>0.0</td>\n",
       "      <td>0</td>\n",
       "      <td>0</td>\n",
       "      <td>0.0</td>\n",
       "      <td>0.0</td>\n",
       "      <td>10.0</td>\n",
       "    </tr>\n",
       "    <tr>\n",
       "      <th>4</th>\n",
       "      <td>00000574cefffeca83ec8adf9285b2bf</td>\n",
       "      <td>win8defender</td>\n",
       "      <td>1.1.15400.4</td>\n",
       "      <td>4.18.1809.2</td>\n",
       "      <td>1.279.236.0</td>\n",
       "      <td>0</td>\n",
       "      <td>7.0</td>\n",
       "      <td>0</td>\n",
       "      <td>NaN</td>\n",
       "      <td>53447.0</td>\n",
       "      <td>...</td>\n",
       "      <td>556.0</td>\n",
       "      <td>63269.0</td>\n",
       "      <td>1</td>\n",
       "      <td>NaN</td>\n",
       "      <td>0.0</td>\n",
       "      <td>0</td>\n",
       "      <td>0</td>\n",
       "      <td>0.0</td>\n",
       "      <td>1.0</td>\n",
       "      <td>3.0</td>\n",
       "    </tr>\n",
       "  </tbody>\n",
       "</table>\n",
       "<p>5 rows × 82 columns</p>\n",
       "</div>"
      ],
      "text/plain": [
       "                  MachineIdentifier   ProductName EngineVersion   AppVersion  \\\n",
       "0  0000010489e3af074adeac69c53e555e  win8defender   1.1.15400.5  4.18.1810.5   \n",
       "1  00000176ac758d54827acd545b6315a5  win8defender   1.1.15400.4  4.18.1809.2   \n",
       "2  0000019dcefc128c2d4387c1273dae1d  win8defender   1.1.15300.6  4.18.1809.2   \n",
       "3  0000055553dc51b1295785415f1a224d  win8defender   1.1.15400.5  4.18.1810.5   \n",
       "4  00000574cefffeca83ec8adf9285b2bf  win8defender   1.1.15400.4  4.18.1809.2   \n",
       "\n",
       "  AvSigVersion  IsBeta  RtpStateBitfield  IsSxsPassiveMode  \\\n",
       "0  1.281.501.0       0               7.0                 0   \n",
       "1  1.279.301.0       0               7.0                 0   \n",
       "2  1.277.230.0       0               7.0                 0   \n",
       "3  1.281.664.0       0               7.0                 0   \n",
       "4  1.279.236.0       0               7.0                 0   \n",
       "\n",
       "   DefaultBrowsersIdentifier  AVProductStatesIdentifier          ...           \\\n",
       "0                        NaN                    53447.0          ...            \n",
       "1                        NaN                    53447.0          ...            \n",
       "2                        NaN                    49480.0          ...            \n",
       "3                        NaN                    42160.0          ...            \n",
       "4                        NaN                    53447.0          ...            \n",
       "\n",
       "   Census_FirmwareManufacturerIdentifier  Census_FirmwareVersionIdentifier  \\\n",
       "0                                  807.0                            8554.0   \n",
       "1                                  554.0                           33105.0   \n",
       "2                                  556.0                           63396.0   \n",
       "3                                  628.0                           26320.0   \n",
       "4                                  556.0                           63269.0   \n",
       "\n",
       "   Census_IsSecureBootEnabled  Census_IsWIMBootEnabled  \\\n",
       "0                           1                      NaN   \n",
       "1                           1                      NaN   \n",
       "2                           1                      NaN   \n",
       "3                           1                      0.0   \n",
       "4                           1                      NaN   \n",
       "\n",
       "   Census_IsVirtualDevice  Census_IsTouchEnabled  Census_IsPenCapable  \\\n",
       "0                     0.0                      0                    0   \n",
       "1                     0.0                      0                    0   \n",
       "2                     0.0                      0                    0   \n",
       "3                     0.0                      0                    0   \n",
       "4                     0.0                      0                    0   \n",
       "\n",
       "   Census_IsAlwaysOnAlwaysConnectedCapable Wdft_IsGamer Wdft_RegionIdentifier  \n",
       "0                                      0.0          0.0                   7.0  \n",
       "1                                      0.0          1.0                  12.0  \n",
       "2                                      0.0          1.0                  11.0  \n",
       "3                                      0.0          0.0                  10.0  \n",
       "4                                      0.0          1.0                   3.0  \n",
       "\n",
       "[5 rows x 82 columns]"
      ]
     },
     "execution_count": 8,
     "metadata": {},
     "output_type": "execute_result"
    }
   ],
   "source": [
    "test = pd.read_csv('/data/kaggle_microsoft/test.csv')\n",
    "test.head()"
   ]
  },
  {
   "cell_type": "code",
   "execution_count": null,
   "metadata": {
    "collapsed": true
   },
   "outputs": [],
   "source": [
    "train.columns"
   ]
  },
  {
   "cell_type": "code",
   "execution_count": null,
   "metadata": {
    "collapsed": true
   },
   "outputs": [],
   "source": [
    "test.columns"
   ]
  },
  {
   "cell_type": "code",
   "execution_count": 6,
   "metadata": {},
   "outputs": [
    {
     "data": {
      "text/plain": [
       "{'HasDetections'}"
      ]
     },
     "execution_count": 6,
     "metadata": {},
     "output_type": "execute_result"
    }
   ],
   "source": [
    "set(train.columns) - set(test.columns)"
   ]
  },
  {
   "cell_type": "code",
   "execution_count": 7,
   "metadata": {},
   "outputs": [
    {
     "data": {
      "text/plain": [
       "set()"
      ]
     },
     "execution_count": 7,
     "metadata": {},
     "output_type": "execute_result"
    }
   ],
   "source": [
    "set(test.columns) - set(train.columns)"
   ]
  },
  {
   "cell_type": "code",
   "execution_count": 8,
   "metadata": {},
   "outputs": [
    {
     "data": {
      "text/html": [
       "<div>\n",
       "<style>\n",
       "    .dataframe thead tr:only-child th {\n",
       "        text-align: right;\n",
       "    }\n",
       "\n",
       "    .dataframe thead th {\n",
       "        text-align: left;\n",
       "    }\n",
       "\n",
       "    .dataframe tbody tr th {\n",
       "        vertical-align: top;\n",
       "    }\n",
       "</style>\n",
       "<table border=\"1\" class=\"dataframe\">\n",
       "  <thead>\n",
       "    <tr style=\"text-align: right;\">\n",
       "      <th></th>\n",
       "      <th>IsBeta</th>\n",
       "      <th>RtpStateBitfield</th>\n",
       "      <th>IsSxsPassiveMode</th>\n",
       "      <th>DefaultBrowsersIdentifier</th>\n",
       "      <th>AVProductStatesIdentifier</th>\n",
       "      <th>AVProductsInstalled</th>\n",
       "      <th>AVProductsEnabled</th>\n",
       "      <th>HasTpm</th>\n",
       "      <th>CountryIdentifier</th>\n",
       "      <th>CityIdentifier</th>\n",
       "      <th>...</th>\n",
       "      <th>Census_FirmwareVersionIdentifier</th>\n",
       "      <th>Census_IsSecureBootEnabled</th>\n",
       "      <th>Census_IsWIMBootEnabled</th>\n",
       "      <th>Census_IsVirtualDevice</th>\n",
       "      <th>Census_IsTouchEnabled</th>\n",
       "      <th>Census_IsPenCapable</th>\n",
       "      <th>Census_IsAlwaysOnAlwaysConnectedCapable</th>\n",
       "      <th>Wdft_IsGamer</th>\n",
       "      <th>Wdft_RegionIdentifier</th>\n",
       "      <th>HasDetections</th>\n",
       "    </tr>\n",
       "  </thead>\n",
       "  <tbody>\n",
       "    <tr>\n",
       "      <th>count</th>\n",
       "      <td>8.921483e+06</td>\n",
       "      <td>8.889165e+06</td>\n",
       "      <td>8.921483e+06</td>\n",
       "      <td>433438.000000</td>\n",
       "      <td>8.885262e+06</td>\n",
       "      <td>8.885262e+06</td>\n",
       "      <td>8.885262e+06</td>\n",
       "      <td>8.921483e+06</td>\n",
       "      <td>8.921483e+06</td>\n",
       "      <td>8.596074e+06</td>\n",
       "      <td>...</td>\n",
       "      <td>8.761350e+06</td>\n",
       "      <td>8.921483e+06</td>\n",
       "      <td>3.261780e+06</td>\n",
       "      <td>8.905530e+06</td>\n",
       "      <td>8.921483e+06</td>\n",
       "      <td>8.921483e+06</td>\n",
       "      <td>8.850140e+06</td>\n",
       "      <td>8.618032e+06</td>\n",
       "      <td>8.618032e+06</td>\n",
       "      <td>8.921483e+06</td>\n",
       "    </tr>\n",
       "    <tr>\n",
       "      <th>mean</th>\n",
       "      <td>7.509962e-06</td>\n",
       "      <td>6.845332e+00</td>\n",
       "      <td>1.733378e-02</td>\n",
       "      <td>1658.355421</td>\n",
       "      <td>4.784001e+04</td>\n",
       "      <td>1.326779e+00</td>\n",
       "      <td>1.020967e+00</td>\n",
       "      <td>9.879711e-01</td>\n",
       "      <td>1.080490e+02</td>\n",
       "      <td>8.126653e+04</td>\n",
       "      <td>...</td>\n",
       "      <td>3.302792e+04</td>\n",
       "      <td>4.860229e-01</td>\n",
       "      <td>3.065811e-07</td>\n",
       "      <td>7.039446e-03</td>\n",
       "      <td>1.255431e-01</td>\n",
       "      <td>3.807091e-02</td>\n",
       "      <td>5.741920e-02</td>\n",
       "      <td>2.835785e-01</td>\n",
       "      <td>7.883565e+00</td>\n",
       "      <td>4.997927e-01</td>\n",
       "    </tr>\n",
       "    <tr>\n",
       "      <th>std</th>\n",
       "      <td>2.740421e-03</td>\n",
       "      <td>1.026055e+00</td>\n",
       "      <td>1.305118e-01</td>\n",
       "      <td>998.960373</td>\n",
       "      <td>1.403237e+04</td>\n",
       "      <td>5.229272e-01</td>\n",
       "      <td>1.675544e-01</td>\n",
       "      <td>1.090149e-01</td>\n",
       "      <td>6.304706e+01</td>\n",
       "      <td>4.892339e+04</td>\n",
       "      <td>...</td>\n",
       "      <td>2.120691e+04</td>\n",
       "      <td>4.998046e-01</td>\n",
       "      <td>5.536976e-04</td>\n",
       "      <td>8.360558e-02</td>\n",
       "      <td>3.313338e-01</td>\n",
       "      <td>1.913675e-01</td>\n",
       "      <td>2.326419e-01</td>\n",
       "      <td>4.507347e-01</td>\n",
       "      <td>4.550121e+00</td>\n",
       "      <td>5.000000e-01</td>\n",
       "    </tr>\n",
       "    <tr>\n",
       "      <th>min</th>\n",
       "      <td>0.000000e+00</td>\n",
       "      <td>0.000000e+00</td>\n",
       "      <td>0.000000e+00</td>\n",
       "      <td>1.000000</td>\n",
       "      <td>3.000000e+00</td>\n",
       "      <td>0.000000e+00</td>\n",
       "      <td>0.000000e+00</td>\n",
       "      <td>0.000000e+00</td>\n",
       "      <td>1.000000e+00</td>\n",
       "      <td>5.000000e+00</td>\n",
       "      <td>...</td>\n",
       "      <td>3.000000e+00</td>\n",
       "      <td>0.000000e+00</td>\n",
       "      <td>0.000000e+00</td>\n",
       "      <td>0.000000e+00</td>\n",
       "      <td>0.000000e+00</td>\n",
       "      <td>0.000000e+00</td>\n",
       "      <td>0.000000e+00</td>\n",
       "      <td>0.000000e+00</td>\n",
       "      <td>1.000000e+00</td>\n",
       "      <td>0.000000e+00</td>\n",
       "    </tr>\n",
       "    <tr>\n",
       "      <th>25%</th>\n",
       "      <td>0.000000e+00</td>\n",
       "      <td>7.000000e+00</td>\n",
       "      <td>0.000000e+00</td>\n",
       "      <td>788.000000</td>\n",
       "      <td>4.948000e+04</td>\n",
       "      <td>1.000000e+00</td>\n",
       "      <td>1.000000e+00</td>\n",
       "      <td>1.000000e+00</td>\n",
       "      <td>5.100000e+01</td>\n",
       "      <td>3.682500e+04</td>\n",
       "      <td>...</td>\n",
       "      <td>1.315600e+04</td>\n",
       "      <td>0.000000e+00</td>\n",
       "      <td>0.000000e+00</td>\n",
       "      <td>0.000000e+00</td>\n",
       "      <td>0.000000e+00</td>\n",
       "      <td>0.000000e+00</td>\n",
       "      <td>0.000000e+00</td>\n",
       "      <td>0.000000e+00</td>\n",
       "      <td>3.000000e+00</td>\n",
       "      <td>0.000000e+00</td>\n",
       "    </tr>\n",
       "    <tr>\n",
       "      <th>50%</th>\n",
       "      <td>0.000000e+00</td>\n",
       "      <td>7.000000e+00</td>\n",
       "      <td>0.000000e+00</td>\n",
       "      <td>1632.000000</td>\n",
       "      <td>5.344700e+04</td>\n",
       "      <td>1.000000e+00</td>\n",
       "      <td>1.000000e+00</td>\n",
       "      <td>1.000000e+00</td>\n",
       "      <td>9.700000e+01</td>\n",
       "      <td>8.237300e+04</td>\n",
       "      <td>...</td>\n",
       "      <td>3.307000e+04</td>\n",
       "      <td>0.000000e+00</td>\n",
       "      <td>0.000000e+00</td>\n",
       "      <td>0.000000e+00</td>\n",
       "      <td>0.000000e+00</td>\n",
       "      <td>0.000000e+00</td>\n",
       "      <td>0.000000e+00</td>\n",
       "      <td>0.000000e+00</td>\n",
       "      <td>1.000000e+01</td>\n",
       "      <td>0.000000e+00</td>\n",
       "    </tr>\n",
       "    <tr>\n",
       "      <th>75%</th>\n",
       "      <td>0.000000e+00</td>\n",
       "      <td>7.000000e+00</td>\n",
       "      <td>0.000000e+00</td>\n",
       "      <td>2373.000000</td>\n",
       "      <td>5.344700e+04</td>\n",
       "      <td>2.000000e+00</td>\n",
       "      <td>1.000000e+00</td>\n",
       "      <td>1.000000e+00</td>\n",
       "      <td>1.620000e+02</td>\n",
       "      <td>1.237000e+05</td>\n",
       "      <td>...</td>\n",
       "      <td>5.243600e+04</td>\n",
       "      <td>1.000000e+00</td>\n",
       "      <td>0.000000e+00</td>\n",
       "      <td>0.000000e+00</td>\n",
       "      <td>0.000000e+00</td>\n",
       "      <td>0.000000e+00</td>\n",
       "      <td>0.000000e+00</td>\n",
       "      <td>1.000000e+00</td>\n",
       "      <td>1.100000e+01</td>\n",
       "      <td>1.000000e+00</td>\n",
       "    </tr>\n",
       "    <tr>\n",
       "      <th>max</th>\n",
       "      <td>1.000000e+00</td>\n",
       "      <td>3.500000e+01</td>\n",
       "      <td>1.000000e+00</td>\n",
       "      <td>3213.000000</td>\n",
       "      <td>7.050700e+04</td>\n",
       "      <td>7.000000e+00</td>\n",
       "      <td>5.000000e+00</td>\n",
       "      <td>1.000000e+00</td>\n",
       "      <td>2.220000e+02</td>\n",
       "      <td>1.679620e+05</td>\n",
       "      <td>...</td>\n",
       "      <td>7.210500e+04</td>\n",
       "      <td>1.000000e+00</td>\n",
       "      <td>1.000000e+00</td>\n",
       "      <td>1.000000e+00</td>\n",
       "      <td>1.000000e+00</td>\n",
       "      <td>1.000000e+00</td>\n",
       "      <td>1.000000e+00</td>\n",
       "      <td>1.000000e+00</td>\n",
       "      <td>1.500000e+01</td>\n",
       "      <td>1.000000e+00</td>\n",
       "    </tr>\n",
       "  </tbody>\n",
       "</table>\n",
       "<p>8 rows × 53 columns</p>\n",
       "</div>"
      ],
      "text/plain": [
       "             IsBeta  RtpStateBitfield  IsSxsPassiveMode  \\\n",
       "count  8.921483e+06      8.889165e+06      8.921483e+06   \n",
       "mean   7.509962e-06      6.845332e+00      1.733378e-02   \n",
       "std    2.740421e-03      1.026055e+00      1.305118e-01   \n",
       "min    0.000000e+00      0.000000e+00      0.000000e+00   \n",
       "25%    0.000000e+00      7.000000e+00      0.000000e+00   \n",
       "50%    0.000000e+00      7.000000e+00      0.000000e+00   \n",
       "75%    0.000000e+00      7.000000e+00      0.000000e+00   \n",
       "max    1.000000e+00      3.500000e+01      1.000000e+00   \n",
       "\n",
       "       DefaultBrowsersIdentifier  AVProductStatesIdentifier  \\\n",
       "count              433438.000000               8.885262e+06   \n",
       "mean                 1658.355421               4.784001e+04   \n",
       "std                   998.960373               1.403237e+04   \n",
       "min                     1.000000               3.000000e+00   \n",
       "25%                   788.000000               4.948000e+04   \n",
       "50%                  1632.000000               5.344700e+04   \n",
       "75%                  2373.000000               5.344700e+04   \n",
       "max                  3213.000000               7.050700e+04   \n",
       "\n",
       "       AVProductsInstalled  AVProductsEnabled        HasTpm  \\\n",
       "count         8.885262e+06       8.885262e+06  8.921483e+06   \n",
       "mean          1.326779e+00       1.020967e+00  9.879711e-01   \n",
       "std           5.229272e-01       1.675544e-01  1.090149e-01   \n",
       "min           0.000000e+00       0.000000e+00  0.000000e+00   \n",
       "25%           1.000000e+00       1.000000e+00  1.000000e+00   \n",
       "50%           1.000000e+00       1.000000e+00  1.000000e+00   \n",
       "75%           2.000000e+00       1.000000e+00  1.000000e+00   \n",
       "max           7.000000e+00       5.000000e+00  1.000000e+00   \n",
       "\n",
       "       CountryIdentifier  CityIdentifier      ...        \\\n",
       "count       8.921483e+06    8.596074e+06      ...         \n",
       "mean        1.080490e+02    8.126653e+04      ...         \n",
       "std         6.304706e+01    4.892339e+04      ...         \n",
       "min         1.000000e+00    5.000000e+00      ...         \n",
       "25%         5.100000e+01    3.682500e+04      ...         \n",
       "50%         9.700000e+01    8.237300e+04      ...         \n",
       "75%         1.620000e+02    1.237000e+05      ...         \n",
       "max         2.220000e+02    1.679620e+05      ...         \n",
       "\n",
       "       Census_FirmwareVersionIdentifier  Census_IsSecureBootEnabled  \\\n",
       "count                      8.761350e+06                8.921483e+06   \n",
       "mean                       3.302792e+04                4.860229e-01   \n",
       "std                        2.120691e+04                4.998046e-01   \n",
       "min                        3.000000e+00                0.000000e+00   \n",
       "25%                        1.315600e+04                0.000000e+00   \n",
       "50%                        3.307000e+04                0.000000e+00   \n",
       "75%                        5.243600e+04                1.000000e+00   \n",
       "max                        7.210500e+04                1.000000e+00   \n",
       "\n",
       "       Census_IsWIMBootEnabled  Census_IsVirtualDevice  Census_IsTouchEnabled  \\\n",
       "count             3.261780e+06            8.905530e+06           8.921483e+06   \n",
       "mean              3.065811e-07            7.039446e-03           1.255431e-01   \n",
       "std               5.536976e-04            8.360558e-02           3.313338e-01   \n",
       "min               0.000000e+00            0.000000e+00           0.000000e+00   \n",
       "25%               0.000000e+00            0.000000e+00           0.000000e+00   \n",
       "50%               0.000000e+00            0.000000e+00           0.000000e+00   \n",
       "75%               0.000000e+00            0.000000e+00           0.000000e+00   \n",
       "max               1.000000e+00            1.000000e+00           1.000000e+00   \n",
       "\n",
       "       Census_IsPenCapable  Census_IsAlwaysOnAlwaysConnectedCapable  \\\n",
       "count         8.921483e+06                             8.850140e+06   \n",
       "mean          3.807091e-02                             5.741920e-02   \n",
       "std           1.913675e-01                             2.326419e-01   \n",
       "min           0.000000e+00                             0.000000e+00   \n",
       "25%           0.000000e+00                             0.000000e+00   \n",
       "50%           0.000000e+00                             0.000000e+00   \n",
       "75%           0.000000e+00                             0.000000e+00   \n",
       "max           1.000000e+00                             1.000000e+00   \n",
       "\n",
       "       Wdft_IsGamer  Wdft_RegionIdentifier  HasDetections  \n",
       "count  8.618032e+06           8.618032e+06   8.921483e+06  \n",
       "mean   2.835785e-01           7.883565e+00   4.997927e-01  \n",
       "std    4.507347e-01           4.550121e+00   5.000000e-01  \n",
       "min    0.000000e+00           1.000000e+00   0.000000e+00  \n",
       "25%    0.000000e+00           3.000000e+00   0.000000e+00  \n",
       "50%    0.000000e+00           1.000000e+01   0.000000e+00  \n",
       "75%    1.000000e+00           1.100000e+01   1.000000e+00  \n",
       "max    1.000000e+00           1.500000e+01   1.000000e+00  \n",
       "\n",
       "[8 rows x 53 columns]"
      ]
     },
     "execution_count": 8,
     "metadata": {},
     "output_type": "execute_result"
    }
   ],
   "source": [
    "train.describe()"
   ]
  },
  {
   "cell_type": "code",
   "execution_count": 19,
   "metadata": {},
   "outputs": [
    {
     "data": {
      "text/html": [
       "<div>\n",
       "<style>\n",
       "    .dataframe thead tr:only-child th {\n",
       "        text-align: right;\n",
       "    }\n",
       "\n",
       "    .dataframe thead th {\n",
       "        text-align: left;\n",
       "    }\n",
       "\n",
       "    .dataframe tbody tr th {\n",
       "        vertical-align: top;\n",
       "    }\n",
       "</style>\n",
       "<table border=\"1\" class=\"dataframe\">\n",
       "  <thead>\n",
       "    <tr style=\"text-align: right;\">\n",
       "      <th></th>\n",
       "      <th>IsBeta</th>\n",
       "      <th>RtpStateBitfield</th>\n",
       "      <th>IsSxsPassiveMode</th>\n",
       "      <th>DefaultBrowsersIdentifier</th>\n",
       "      <th>AVProductStatesIdentifier</th>\n",
       "      <th>AVProductsInstalled</th>\n",
       "      <th>AVProductsEnabled</th>\n",
       "      <th>HasTpm</th>\n",
       "      <th>CountryIdentifier</th>\n",
       "      <th>CityIdentifier</th>\n",
       "      <th>...</th>\n",
       "      <th>Census_FirmwareManufacturerIdentifier</th>\n",
       "      <th>Census_FirmwareVersionIdentifier</th>\n",
       "      <th>Census_IsSecureBootEnabled</th>\n",
       "      <th>Census_IsWIMBootEnabled</th>\n",
       "      <th>Census_IsVirtualDevice</th>\n",
       "      <th>Census_IsTouchEnabled</th>\n",
       "      <th>Census_IsPenCapable</th>\n",
       "      <th>Census_IsAlwaysOnAlwaysConnectedCapable</th>\n",
       "      <th>Wdft_IsGamer</th>\n",
       "      <th>Wdft_RegionIdentifier</th>\n",
       "    </tr>\n",
       "  </thead>\n",
       "  <tbody>\n",
       "    <tr>\n",
       "      <th>count</th>\n",
       "      <td>7.853253e+06</td>\n",
       "      <td>7.821031e+06</td>\n",
       "      <td>7.853253e+06</td>\n",
       "      <td>307119.000000</td>\n",
       "      <td>7.829486e+06</td>\n",
       "      <td>7.829486e+06</td>\n",
       "      <td>7.829486e+06</td>\n",
       "      <td>7.853253e+06</td>\n",
       "      <td>7.853253e+06</td>\n",
       "      <td>7.661291e+06</td>\n",
       "      <td>...</td>\n",
       "      <td>7.654619e+06</td>\n",
       "      <td>7.675629e+06</td>\n",
       "      <td>7.853253e+06</td>\n",
       "      <td>2.330546e+06</td>\n",
       "      <td>7.835962e+06</td>\n",
       "      <td>7.853253e+06</td>\n",
       "      <td>7.853253e+06</td>\n",
       "      <td>7.763101e+06</td>\n",
       "      <td>7.550396e+06</td>\n",
       "      <td>7.550396e+06</td>\n",
       "    </tr>\n",
       "    <tr>\n",
       "      <th>mean</th>\n",
       "      <td>5.857445e-06</td>\n",
       "      <td>6.852231e+00</td>\n",
       "      <td>1.586807e-02</td>\n",
       "      <td>1604.120797</td>\n",
       "      <td>4.944972e+04</td>\n",
       "      <td>1.273465e+00</td>\n",
       "      <td>1.018253e+00</td>\n",
       "      <td>9.917166e-01</td>\n",
       "      <td>1.094486e+02</td>\n",
       "      <td>8.121278e+04</td>\n",
       "      <td>...</td>\n",
       "      <td>3.966691e+02</td>\n",
       "      <td>3.267878e+04</td>\n",
       "      <td>4.513596e-01</td>\n",
       "      <td>4.290840e-07</td>\n",
       "      <td>8.248381e-03</td>\n",
       "      <td>1.182907e-01</td>\n",
       "      <td>3.794440e-02</td>\n",
       "      <td>5.448467e-02</td>\n",
       "      <td>2.977041e-01</td>\n",
       "      <td>7.701044e+00</td>\n",
       "    </tr>\n",
       "    <tr>\n",
       "      <th>std</th>\n",
       "      <td>2.420209e-03</td>\n",
       "      <td>1.009466e+00</td>\n",
       "      <td>1.249651e-01</td>\n",
       "      <td>1049.237340</td>\n",
       "      <td>1.226556e+04</td>\n",
       "      <td>4.916655e-01</td>\n",
       "      <td>1.551581e-01</td>\n",
       "      <td>9.063571e-02</td>\n",
       "      <td>6.318849e+01</td>\n",
       "      <td>4.903231e+04</td>\n",
       "      <td>...</td>\n",
       "      <td>2.218320e+02</td>\n",
       "      <td>2.114642e+04</td>\n",
       "      <td>4.976285e-01</td>\n",
       "      <td>6.550450e-04</td>\n",
       "      <td>9.044527e-02</td>\n",
       "      <td>3.229521e-01</td>\n",
       "      <td>1.910618e-01</td>\n",
       "      <td>2.269716e-01</td>\n",
       "      <td>4.572487e-01</td>\n",
       "      <td>4.529220e+00</td>\n",
       "    </tr>\n",
       "    <tr>\n",
       "      <th>min</th>\n",
       "      <td>0.000000e+00</td>\n",
       "      <td>0.000000e+00</td>\n",
       "      <td>0.000000e+00</td>\n",
       "      <td>1.000000</td>\n",
       "      <td>2.000000e+00</td>\n",
       "      <td>1.000000e+00</td>\n",
       "      <td>0.000000e+00</td>\n",
       "      <td>0.000000e+00</td>\n",
       "      <td>1.000000e+00</td>\n",
       "      <td>1.000000e+00</td>\n",
       "      <td>...</td>\n",
       "      <td>1.000000e+00</td>\n",
       "      <td>5.000000e+00</td>\n",
       "      <td>0.000000e+00</td>\n",
       "      <td>0.000000e+00</td>\n",
       "      <td>0.000000e+00</td>\n",
       "      <td>0.000000e+00</td>\n",
       "      <td>0.000000e+00</td>\n",
       "      <td>0.000000e+00</td>\n",
       "      <td>0.000000e+00</td>\n",
       "      <td>1.000000e+00</td>\n",
       "    </tr>\n",
       "    <tr>\n",
       "      <th>25%</th>\n",
       "      <td>0.000000e+00</td>\n",
       "      <td>7.000000e+00</td>\n",
       "      <td>0.000000e+00</td>\n",
       "      <td>508.000000</td>\n",
       "      <td>5.344700e+04</td>\n",
       "      <td>1.000000e+00</td>\n",
       "      <td>1.000000e+00</td>\n",
       "      <td>1.000000e+00</td>\n",
       "      <td>5.100000e+01</td>\n",
       "      <td>3.682900e+04</td>\n",
       "      <td>...</td>\n",
       "      <td>1.420000e+02</td>\n",
       "      <td>1.260600e+04</td>\n",
       "      <td>0.000000e+00</td>\n",
       "      <td>0.000000e+00</td>\n",
       "      <td>0.000000e+00</td>\n",
       "      <td>0.000000e+00</td>\n",
       "      <td>0.000000e+00</td>\n",
       "      <td>0.000000e+00</td>\n",
       "      <td>0.000000e+00</td>\n",
       "      <td>3.000000e+00</td>\n",
       "    </tr>\n",
       "    <tr>\n",
       "      <th>50%</th>\n",
       "      <td>0.000000e+00</td>\n",
       "      <td>7.000000e+00</td>\n",
       "      <td>0.000000e+00</td>\n",
       "      <td>1632.000000</td>\n",
       "      <td>5.344700e+04</td>\n",
       "      <td>1.000000e+00</td>\n",
       "      <td>1.000000e+00</td>\n",
       "      <td>1.000000e+00</td>\n",
       "      <td>9.700000e+01</td>\n",
       "      <td>8.237300e+04</td>\n",
       "      <td>...</td>\n",
       "      <td>4.860000e+02</td>\n",
       "      <td>3.306000e+04</td>\n",
       "      <td>0.000000e+00</td>\n",
       "      <td>0.000000e+00</td>\n",
       "      <td>0.000000e+00</td>\n",
       "      <td>0.000000e+00</td>\n",
       "      <td>0.000000e+00</td>\n",
       "      <td>0.000000e+00</td>\n",
       "      <td>0.000000e+00</td>\n",
       "      <td>1.000000e+01</td>\n",
       "    </tr>\n",
       "    <tr>\n",
       "      <th>75%</th>\n",
       "      <td>0.000000e+00</td>\n",
       "      <td>7.000000e+00</td>\n",
       "      <td>0.000000e+00</td>\n",
       "      <td>2377.000000</td>\n",
       "      <td>5.344700e+04</td>\n",
       "      <td>2.000000e+00</td>\n",
       "      <td>1.000000e+00</td>\n",
       "      <td>1.000000e+00</td>\n",
       "      <td>1.640000e+02</td>\n",
       "      <td>1.232060e+05</td>\n",
       "      <td>...</td>\n",
       "      <td>5.560000e+02</td>\n",
       "      <td>5.208100e+04</td>\n",
       "      <td>1.000000e+00</td>\n",
       "      <td>0.000000e+00</td>\n",
       "      <td>0.000000e+00</td>\n",
       "      <td>0.000000e+00</td>\n",
       "      <td>0.000000e+00</td>\n",
       "      <td>0.000000e+00</td>\n",
       "      <td>1.000000e+00</td>\n",
       "      <td>1.100000e+01</td>\n",
       "    </tr>\n",
       "    <tr>\n",
       "      <th>max</th>\n",
       "      <td>1.000000e+00</td>\n",
       "      <td>4.000000e+01</td>\n",
       "      <td>1.000000e+00</td>\n",
       "      <td>3214.000000</td>\n",
       "      <td>7.050200e+04</td>\n",
       "      <td>6.000000e+00</td>\n",
       "      <td>5.000000e+00</td>\n",
       "      <td>1.000000e+00</td>\n",
       "      <td>2.220000e+02</td>\n",
       "      <td>1.679620e+05</td>\n",
       "      <td>...</td>\n",
       "      <td>1.088000e+03</td>\n",
       "      <td>7.211100e+04</td>\n",
       "      <td>1.000000e+00</td>\n",
       "      <td>1.000000e+00</td>\n",
       "      <td>1.000000e+00</td>\n",
       "      <td>1.000000e+00</td>\n",
       "      <td>1.000000e+00</td>\n",
       "      <td>1.000000e+00</td>\n",
       "      <td>1.000000e+00</td>\n",
       "      <td>1.500000e+01</td>\n",
       "    </tr>\n",
       "  </tbody>\n",
       "</table>\n",
       "<p>8 rows × 52 columns</p>\n",
       "</div>"
      ],
      "text/plain": [
       "             IsBeta  RtpStateBitfield  IsSxsPassiveMode  \\\n",
       "count  7.853253e+06      7.821031e+06      7.853253e+06   \n",
       "mean   5.857445e-06      6.852231e+00      1.586807e-02   \n",
       "std    2.420209e-03      1.009466e+00      1.249651e-01   \n",
       "min    0.000000e+00      0.000000e+00      0.000000e+00   \n",
       "25%    0.000000e+00      7.000000e+00      0.000000e+00   \n",
       "50%    0.000000e+00      7.000000e+00      0.000000e+00   \n",
       "75%    0.000000e+00      7.000000e+00      0.000000e+00   \n",
       "max    1.000000e+00      4.000000e+01      1.000000e+00   \n",
       "\n",
       "       DefaultBrowsersIdentifier  AVProductStatesIdentifier  \\\n",
       "count              307119.000000               7.829486e+06   \n",
       "mean                 1604.120797               4.944972e+04   \n",
       "std                  1049.237340               1.226556e+04   \n",
       "min                     1.000000               2.000000e+00   \n",
       "25%                   508.000000               5.344700e+04   \n",
       "50%                  1632.000000               5.344700e+04   \n",
       "75%                  2377.000000               5.344700e+04   \n",
       "max                  3214.000000               7.050200e+04   \n",
       "\n",
       "       AVProductsInstalled  AVProductsEnabled        HasTpm  \\\n",
       "count         7.829486e+06       7.829486e+06  7.853253e+06   \n",
       "mean          1.273465e+00       1.018253e+00  9.917166e-01   \n",
       "std           4.916655e-01       1.551581e-01  9.063571e-02   \n",
       "min           1.000000e+00       0.000000e+00  0.000000e+00   \n",
       "25%           1.000000e+00       1.000000e+00  1.000000e+00   \n",
       "50%           1.000000e+00       1.000000e+00  1.000000e+00   \n",
       "75%           2.000000e+00       1.000000e+00  1.000000e+00   \n",
       "max           6.000000e+00       5.000000e+00  1.000000e+00   \n",
       "\n",
       "       CountryIdentifier  CityIdentifier          ...            \\\n",
       "count       7.853253e+06    7.661291e+06          ...             \n",
       "mean        1.094486e+02    8.121278e+04          ...             \n",
       "std         6.318849e+01    4.903231e+04          ...             \n",
       "min         1.000000e+00    1.000000e+00          ...             \n",
       "25%         5.100000e+01    3.682900e+04          ...             \n",
       "50%         9.700000e+01    8.237300e+04          ...             \n",
       "75%         1.640000e+02    1.232060e+05          ...             \n",
       "max         2.220000e+02    1.679620e+05          ...             \n",
       "\n",
       "       Census_FirmwareManufacturerIdentifier  \\\n",
       "count                           7.654619e+06   \n",
       "mean                            3.966691e+02   \n",
       "std                             2.218320e+02   \n",
       "min                             1.000000e+00   \n",
       "25%                             1.420000e+02   \n",
       "50%                             4.860000e+02   \n",
       "75%                             5.560000e+02   \n",
       "max                             1.088000e+03   \n",
       "\n",
       "       Census_FirmwareVersionIdentifier  Census_IsSecureBootEnabled  \\\n",
       "count                      7.675629e+06                7.853253e+06   \n",
       "mean                       3.267878e+04                4.513596e-01   \n",
       "std                        2.114642e+04                4.976285e-01   \n",
       "min                        5.000000e+00                0.000000e+00   \n",
       "25%                        1.260600e+04                0.000000e+00   \n",
       "50%                        3.306000e+04                0.000000e+00   \n",
       "75%                        5.208100e+04                1.000000e+00   \n",
       "max                        7.211100e+04                1.000000e+00   \n",
       "\n",
       "       Census_IsWIMBootEnabled  Census_IsVirtualDevice  Census_IsTouchEnabled  \\\n",
       "count             2.330546e+06            7.835962e+06           7.853253e+06   \n",
       "mean              4.290840e-07            8.248381e-03           1.182907e-01   \n",
       "std               6.550450e-04            9.044527e-02           3.229521e-01   \n",
       "min               0.000000e+00            0.000000e+00           0.000000e+00   \n",
       "25%               0.000000e+00            0.000000e+00           0.000000e+00   \n",
       "50%               0.000000e+00            0.000000e+00           0.000000e+00   \n",
       "75%               0.000000e+00            0.000000e+00           0.000000e+00   \n",
       "max               1.000000e+00            1.000000e+00           1.000000e+00   \n",
       "\n",
       "       Census_IsPenCapable  Census_IsAlwaysOnAlwaysConnectedCapable  \\\n",
       "count         7.853253e+06                             7.763101e+06   \n",
       "mean          3.794440e-02                             5.448467e-02   \n",
       "std           1.910618e-01                             2.269716e-01   \n",
       "min           0.000000e+00                             0.000000e+00   \n",
       "25%           0.000000e+00                             0.000000e+00   \n",
       "50%           0.000000e+00                             0.000000e+00   \n",
       "75%           0.000000e+00                             0.000000e+00   \n",
       "max           1.000000e+00                             1.000000e+00   \n",
       "\n",
       "       Wdft_IsGamer  Wdft_RegionIdentifier  \n",
       "count  7.550396e+06           7.550396e+06  \n",
       "mean   2.977041e-01           7.701044e+00  \n",
       "std    4.572487e-01           4.529220e+00  \n",
       "min    0.000000e+00           1.000000e+00  \n",
       "25%    0.000000e+00           3.000000e+00  \n",
       "50%    0.000000e+00           1.000000e+01  \n",
       "75%    1.000000e+00           1.100000e+01  \n",
       "max    1.000000e+00           1.500000e+01  \n",
       "\n",
       "[8 rows x 52 columns]"
      ]
     },
     "execution_count": 19,
     "metadata": {},
     "output_type": "execute_result"
    }
   ],
   "source": [
    "test.describe()"
   ]
  },
  {
   "cell_type": "code",
   "execution_count": 15,
   "metadata": {},
   "outputs": [
    {
     "name": "stdout",
     "output_type": "stream",
     "text": [
      "/data/kaggle_data_ga_crp\r\n"
     ]
    }
   ],
   "source": [
    "!pwd"
   ]
  },
  {
   "cell_type": "code",
   "execution_count": 14,
   "metadata": {},
   "outputs": [
    {
     "name": "stderr",
     "output_type": "stream",
     "text": [
      "/root/anaconda3/lib/python3.6/site-packages/matplotlib/font_manager.py:1238: UserWarning: findfont: Font family ['sans-serif'] not found. Falling back to DejaVu Sans.\n",
      "  (prop.get_family(), self.defaultFamily[fontext]))\n",
      "/root/anaconda3/lib/python3.6/site-packages/matplotlib/font_manager.py:1238: UserWarning: findfont: Font family ['sans-serif'] not found. Falling back to DejaVu Sans.\n",
      "  (prop.get_family(), self.defaultFamily[fontext]))\n",
      "/root/anaconda3/lib/python3.6/site-packages/matplotlib/font_manager.py:1238: UserWarning: findfont: Font family ['sans-serif'] not found. Falling back to DejaVu Sans.\n",
      "  (prop.get_family(), self.defaultFamily[fontext]))\n",
      "/root/anaconda3/lib/python3.6/site-packages/matplotlib/font_manager.py:1238: UserWarning: findfont: Font family ['sans-serif'] not found. Falling back to DejaVu Sans.\n",
      "  (prop.get_family(), self.defaultFamily[fontext]))\n",
      "/root/anaconda3/lib/python3.6/site-packages/matplotlib/font_manager.py:1238: UserWarning: findfont: Font family ['sans-serif'] not found. Falling back to DejaVu Sans.\n",
      "  (prop.get_family(), self.defaultFamily[fontext]))\n",
      "/root/anaconda3/lib/python3.6/site-packages/matplotlib/font_manager.py:1238: UserWarning: findfont: Font family ['sans-serif'] not found. Falling back to DejaVu Sans.\n",
      "  (prop.get_family(), self.defaultFamily[fontext]))\n",
      "/root/anaconda3/lib/python3.6/site-packages/matplotlib/font_manager.py:1238: UserWarning: findfont: Font family ['sans-serif'] not found. Falling back to DejaVu Sans.\n",
      "  (prop.get_family(), self.defaultFamily[fontext]))\n",
      "/root/anaconda3/lib/python3.6/site-packages/matplotlib/font_manager.py:1238: UserWarning: findfont: Font family ['sans-serif'] not found. Falling back to DejaVu Sans.\n",
      "  (prop.get_family(), self.defaultFamily[fontext]))\n",
      "/root/anaconda3/lib/python3.6/site-packages/matplotlib/font_manager.py:1238: UserWarning: findfont: Font family ['sans-serif'] not found. Falling back to DejaVu Sans.\n",
      "  (prop.get_family(), self.defaultFamily[fontext]))\n",
      "/root/anaconda3/lib/python3.6/site-packages/matplotlib/font_manager.py:1238: UserWarning: findfont: Font family ['sans-serif'] not found. Falling back to DejaVu Sans.\n",
      "  (prop.get_family(), self.defaultFamily[fontext]))\n",
      "/root/anaconda3/lib/python3.6/site-packages/matplotlib/font_manager.py:1238: UserWarning: findfont: Font family ['sans-serif'] not found. Falling back to DejaVu Sans.\n",
      "  (prop.get_family(), self.defaultFamily[fontext]))\n",
      "/root/anaconda3/lib/python3.6/site-packages/matplotlib/font_manager.py:1238: UserWarning: findfont: Font family ['sans-serif'] not found. Falling back to DejaVu Sans.\n",
      "  (prop.get_family(), self.defaultFamily[fontext]))\n",
      "/root/anaconda3/lib/python3.6/site-packages/matplotlib/font_manager.py:1238: UserWarning: findfont: Font family ['sans-serif'] not found. Falling back to DejaVu Sans.\n",
      "  (prop.get_family(), self.defaultFamily[fontext]))\n"
     ]
    }
   ],
   "source": [
    "profile = pandas_profiling.ProfileReport(train)\n",
    "rejected_variables = profile.get_rejected_variables(threshold=0.9)\n",
    "profile.to_file(outputfile=\"pandas_profiling_output_train.html\")"
   ]
  },
  {
   "cell_type": "code",
   "execution_count": 16,
   "metadata": {},
   "outputs": [
    {
     "data": {
      "text/plain": [
       "['Census_InternalPrimaryDisplayResolutionVertical',\n",
       " 'Census_OSBuildNumber',\n",
       " 'Census_OSUILocaleIdentifier']"
      ]
     },
     "execution_count": 16,
     "metadata": {},
     "output_type": "execute_result"
    }
   ],
   "source": [
    "rejected_variables"
   ]
  },
  {
   "cell_type": "code",
   "execution_count": 17,
   "metadata": {},
   "outputs": [
    {
     "name": "stderr",
     "output_type": "stream",
     "text": [
      "/root/anaconda3/lib/python3.6/site-packages/matplotlib/font_manager.py:1238: UserWarning: findfont: Font family ['sans-serif'] not found. Falling back to DejaVu Sans.\n",
      "  (prop.get_family(), self.defaultFamily[fontext]))\n",
      "/root/anaconda3/lib/python3.6/site-packages/matplotlib/font_manager.py:1238: UserWarning: findfont: Font family ['sans-serif'] not found. Falling back to DejaVu Sans.\n",
      "  (prop.get_family(), self.defaultFamily[fontext]))\n",
      "/root/anaconda3/lib/python3.6/site-packages/matplotlib/font_manager.py:1238: UserWarning: findfont: Font family ['sans-serif'] not found. Falling back to DejaVu Sans.\n",
      "  (prop.get_family(), self.defaultFamily[fontext]))\n",
      "/root/anaconda3/lib/python3.6/site-packages/matplotlib/font_manager.py:1238: UserWarning: findfont: Font family ['sans-serif'] not found. Falling back to DejaVu Sans.\n",
      "  (prop.get_family(), self.defaultFamily[fontext]))\n",
      "/root/anaconda3/lib/python3.6/site-packages/matplotlib/font_manager.py:1238: UserWarning: findfont: Font family ['sans-serif'] not found. Falling back to DejaVu Sans.\n",
      "  (prop.get_family(), self.defaultFamily[fontext]))\n",
      "/root/anaconda3/lib/python3.6/site-packages/matplotlib/font_manager.py:1238: UserWarning: findfont: Font family ['sans-serif'] not found. Falling back to DejaVu Sans.\n",
      "  (prop.get_family(), self.defaultFamily[fontext]))\n",
      "/root/anaconda3/lib/python3.6/site-packages/matplotlib/font_manager.py:1238: UserWarning: findfont: Font family ['sans-serif'] not found. Falling back to DejaVu Sans.\n",
      "  (prop.get_family(), self.defaultFamily[fontext]))\n",
      "/root/anaconda3/lib/python3.6/site-packages/matplotlib/font_manager.py:1238: UserWarning: findfont: Font family ['sans-serif'] not found. Falling back to DejaVu Sans.\n",
      "  (prop.get_family(), self.defaultFamily[fontext]))\n",
      "/root/anaconda3/lib/python3.6/site-packages/matplotlib/font_manager.py:1238: UserWarning: findfont: Font family ['sans-serif'] not found. Falling back to DejaVu Sans.\n",
      "  (prop.get_family(), self.defaultFamily[fontext]))\n",
      "/root/anaconda3/lib/python3.6/site-packages/matplotlib/font_manager.py:1238: UserWarning: findfont: Font family ['sans-serif'] not found. Falling back to DejaVu Sans.\n",
      "  (prop.get_family(), self.defaultFamily[fontext]))\n",
      "/root/anaconda3/lib/python3.6/site-packages/matplotlib/font_manager.py:1238: UserWarning: findfont: Font family ['sans-serif'] not found. Falling back to DejaVu Sans.\n",
      "  (prop.get_family(), self.defaultFamily[fontext]))\n",
      "/root/anaconda3/lib/python3.6/site-packages/matplotlib/font_manager.py:1238: UserWarning: findfont: Font family ['sans-serif'] not found. Falling back to DejaVu Sans.\n",
      "  (prop.get_family(), self.defaultFamily[fontext]))\n"
     ]
    }
   ],
   "source": [
    "test_profile = pandas_profiling.ProfileReport(test)\n",
    "test_rejected_variables = test_profile.get_rejected_variables(threshold=0.9)\n",
    "test_profile.to_file(outputfile=\"pandas_profiling_output_test.html\")"
   ]
  },
  {
   "cell_type": "code",
   "execution_count": 21,
   "metadata": {},
   "outputs": [
    {
     "data": {
      "text/plain": [
       "Index(['MachineIdentifier', 'ProductName', 'EngineVersion', 'AppVersion',\n",
       "       'AvSigVersion', 'IsBeta', 'RtpStateBitfield', 'IsSxsPassiveMode',\n",
       "       'DefaultBrowsersIdentifier', 'AVProductStatesIdentifier',\n",
       "       'AVProductsInstalled', 'AVProductsEnabled', 'HasTpm',\n",
       "       'CountryIdentifier', 'CityIdentifier', 'OrganizationIdentifier',\n",
       "       'GeoNameIdentifier', 'LocaleEnglishNameIdentifier', 'Platform',\n",
       "       'Processor', 'OsVer', 'OsBuild', 'OsSuite', 'OsPlatformSubRelease',\n",
       "       'OsBuildLab', 'SkuEdition', 'IsProtected', 'AutoSampleOptIn', 'PuaMode',\n",
       "       'SMode', 'IeVerIdentifier', 'SmartScreen', 'Firewall', 'UacLuaenable',\n",
       "       'Census_MDC2FormFactor', 'Census_DeviceFamily',\n",
       "       'Census_OEMNameIdentifier', 'Census_OEMModelIdentifier',\n",
       "       'Census_ProcessorCoreCount', 'Census_ProcessorManufacturerIdentifier',\n",
       "       'Census_ProcessorModelIdentifier', 'Census_ProcessorClass',\n",
       "       'Census_PrimaryDiskTotalCapacity', 'Census_PrimaryDiskTypeName',\n",
       "       'Census_SystemVolumeTotalCapacity', 'Census_HasOpticalDiskDrive',\n",
       "       'Census_TotalPhysicalRAM', 'Census_ChassisTypeName',\n",
       "       'Census_InternalPrimaryDiagonalDisplaySizeInInches',\n",
       "       'Census_InternalPrimaryDisplayResolutionHorizontal',\n",
       "       'Census_InternalPrimaryDisplayResolutionVertical',\n",
       "       'Census_PowerPlatformRoleName', 'Census_InternalBatteryType',\n",
       "       'Census_InternalBatteryNumberOfCharges', 'Census_OSVersion',\n",
       "       'Census_OSArchitecture', 'Census_OSBranch', 'Census_OSBuildNumber',\n",
       "       'Census_OSBuildRevision', 'Census_OSEdition', 'Census_OSSkuName',\n",
       "       'Census_OSInstallTypeName', 'Census_OSInstallLanguageIdentifier',\n",
       "       'Census_OSUILocaleIdentifier', 'Census_OSWUAutoUpdateOptionsName',\n",
       "       'Census_IsPortableOperatingSystem', 'Census_GenuineStateName',\n",
       "       'Census_ActivationChannel', 'Census_IsFlightingInternal',\n",
       "       'Census_IsFlightsDisabled', 'Census_FlightRing',\n",
       "       'Census_ThresholdOptIn', 'Census_FirmwareManufacturerIdentifier',\n",
       "       'Census_FirmwareVersionIdentifier', 'Census_IsSecureBootEnabled',\n",
       "       'Census_IsWIMBootEnabled', 'Census_IsVirtualDevice',\n",
       "       'Census_IsTouchEnabled', 'Census_IsPenCapable',\n",
       "       'Census_IsAlwaysOnAlwaysConnectedCapable', 'Wdft_IsGamer',\n",
       "       'Wdft_RegionIdentifier', 'HasDetections'],\n",
       "      dtype='object')"
      ]
     },
     "execution_count": 21,
     "metadata": {},
     "output_type": "execute_result"
    }
   ],
   "source": [
    "train.columns"
   ]
  },
  {
   "cell_type": "markdown",
   "metadata": {},
   "source": [
    "# Variables reject due to high cardinality\n",
    "['Census_InternalPrimaryDisplayResolutionVertical',\n",
    " 'Census_OSBuildNumber',\n",
    " 'Census_OSUILocaleIdentifier']"
   ]
  },
  {
   "cell_type": "markdown",
   "metadata": {},
   "source": [
    "# Ignore\n",
    "MachineIdentifier"
   ]
  },
  {
   "cell_type": "markdown",
   "metadata": {},
   "source": [
    "# Variable having mostly missing values\n",
    "Census_InternalBatteryType (76.1%)\n",
    "\n",
    "Census_IsFlightingInternal (85%)\n",
    "\n",
    "Census_IsWIMBootEnabled (70.3%)\n",
    "\n",
    "Census_ProcessorClass (99.8%)\n",
    "\n",
    "Census_ThresholdOptIn (70.4%)\n",
    "\n",
    "DefaultBrowsersIdentifier (96.1%)\n",
    "\n",
    "PuaMode (100%)\n",
    "\n",
    "SMode (74.3%)\n",
    "\n"
   ]
  },
  {
   "cell_type": "markdown",
   "metadata": {
    "collapsed": true
   },
   "source": [
    "# Other ignore as difference in training and test set"
   ]
  },
  {
   "cell_type": "markdown",
   "metadata": {
    "collapsed": true
   },
   "source": [
    "AppVersion"
   ]
  },
  {
   "cell_type": "markdown",
   "metadata": {
    "collapsed": true
   },
   "source": [
    "# One hot encode\n",
    "ProductName\n",
    "IsBeta\n",
    "IsSxsPassiveMode\n",
    "Platform\n",
    "Processor\n",
    "OsPlatformSubRelease\n",
    "Census_DeviceFamily\n",
    "Census_ProcessorClass\n",
    "Census_PrimaryDiskTypeName\n",
    "SkuEdition\n",
    "PuaMode\n",
    "Census_PowerPlatformRoleName\n",
    "Census_OSArchitecture\n",
    "Census_OSInstallTypeName\n",
    "Census_OSWUAutoUpdateOptionsName\n",
    "Census_GenuineStateName\n",
    "Census_ActivationChannel\n",
    "\n",
    "\n",
    "# First cardinality reduce then One hot encode\n",
    "OsVer\n",
    "Census_ChassisTypeName\n",
    "Census_OSBranch\n",
    "Census_OSEdition\n",
    "Census_OSSkuName\n",
    "Census_FlightRing\n",
    "EngineVersion\n",
    "OsBuildLab\n",
    "Census_MDC2FormFactor\n",
    "#Census_InternalBatteryType [Mostly missing]<br>\n",
    "#AppVersion [Remember: Test dataset has more different values]\n"
   ]
  },
  {
   "cell_type": "code",
   "execution_count": 9,
   "metadata": {
    "collapsed": true
   },
   "outputs": [],
   "source": [
    "train_one_hot = pd.get_dummies(train[['ProductName','IsBeta','IsSxsPassiveMode','Platform','Processor','OsPlatformSubRelease','Census_DeviceFamily','Census_ProcessorClass','Census_PrimaryDiskTypeName','SkuEdition','PuaMode','Census_PowerPlatformRoleName','Census_OSArchitecture','Census_OSInstallTypeName','Census_OSWUAutoUpdateOptionsName','Census_GenuineStateName','Census_ActivationChannel']])"
   ]
  },
  {
   "cell_type": "code",
   "execution_count": 10,
   "metadata": {
    "collapsed": true
   },
   "outputs": [],
   "source": [
    "test_one_hot = pd.get_dummies(test[['ProductName','IsBeta','IsSxsPassiveMode','Platform','Processor','OsPlatformSubRelease','Census_DeviceFamily','Census_ProcessorClass','Census_PrimaryDiskTypeName','SkuEdition','PuaMode','Census_PowerPlatformRoleName','Census_OSArchitecture','Census_OSInstallTypeName','Census_OSWUAutoUpdateOptionsName','Census_GenuineStateName','Census_ActivationChannel']])"
   ]
  },
  {
   "cell_type": "code",
   "execution_count": 11,
   "metadata": {
    "collapsed": true
   },
   "outputs": [],
   "source": [
    "train['OsVer_low_dim'] = train['OsVer'].apply(lambda x : str(x) if str(x) in ['10.0.0.0', '6.3.0.0', '6.1.1.0'] else 'others')"
   ]
  },
  {
   "cell_type": "code",
   "execution_count": 12,
   "metadata": {
    "collapsed": true
   },
   "outputs": [],
   "source": [
    "test['OsVer_low_dim'] = test['OsVer'].apply(lambda x : str(x) if str(x) in ['10.0.0.0', '6.3.0.0', '6.1.1.0'] else 'others')"
   ]
  },
  {
   "cell_type": "code",
   "execution_count": 13,
   "metadata": {
    "collapsed": true
   },
   "outputs": [],
   "source": [
    "train['Census_ChassisTypeName_low_dim'] = train['Census_ChassisTypeName'].apply(lambda x : str(x) if str(x) in ['Notebook', 'Desktop', 'Laptop', 'Portable', 'AllinOne', 'MiniTower'] else 'others')"
   ]
  },
  {
   "cell_type": "code",
   "execution_count": 14,
   "metadata": {
    "collapsed": true
   },
   "outputs": [],
   "source": [
    "test['Census_ChassisTypeName_low_dim'] = test['Census_ChassisTypeName'].apply(lambda x : str(x) if str(x) in ['Notebook', 'Desktop', 'Laptop', 'Portable', 'AllinOne', 'MiniTower'] else 'others')"
   ]
  },
  {
   "cell_type": "code",
   "execution_count": 15,
   "metadata": {
    "collapsed": true
   },
   "outputs": [],
   "source": [
    "train['SmartScreen_low_dim'] = train['SmartScreen'].apply(lambda x : str(x) if str(x) in ['RequireAdmin', 'ExistsNotSet', 'Off', 'Warn', 'Prompt', 'Block'] else 'others')"
   ]
  },
  {
   "cell_type": "code",
   "execution_count": 16,
   "metadata": {
    "collapsed": true
   },
   "outputs": [],
   "source": [
    "test['SmartScreen_low_dim'] = test['SmartScreen'].apply(lambda x : str(x) if str(x) in ['RequireAdmin', 'ExistsNotSet', 'Off', 'Warn', 'Prompt', 'Block'] else 'others')"
   ]
  },
  {
   "cell_type": "code",
   "execution_count": 17,
   "metadata": {
    "collapsed": true
   },
   "outputs": [],
   "source": [
    "train['Census_MDC2FormFactor_low_dim'] = train['Census_MDC2FormFactor'].apply(lambda x : str(x) if str(x) in ['Notebook', 'Desktop', 'Convertible', 'AllInOne', 'Detachable', 'PCOther', 'LargeTablet'] else 'others')"
   ]
  },
  {
   "cell_type": "code",
   "execution_count": 18,
   "metadata": {
    "collapsed": true
   },
   "outputs": [],
   "source": [
    "test['Census_MDC2FormFactor_low_dim'] = test['Census_MDC2FormFactor'].apply(lambda x : str(x) if str(x) in ['Notebook', 'Desktop', 'Convertible', 'AllInOne', 'Detachable', 'PCOther', 'LargeTablet'] else 'others')"
   ]
  },
  {
   "cell_type": "code",
   "execution_count": 44,
   "metadata": {
    "collapsed": true
   },
   "outputs": [],
   "source": [
    "#MOSTLY MISSING\n",
    "#train['Census_InternalBatteryType_low_dim']\n",
    "#train['Census_InternalBatteryType'].apply(lambda x : str(x) if str(x) in ['Notebook', 'Desktop', 'Laptop', 'Portable', 'AllinOne', 'MiniTower'] else 'others')"
   ]
  },
  {
   "cell_type": "code",
   "execution_count": 19,
   "metadata": {
    "collapsed": true
   },
   "outputs": [],
   "source": [
    "train['Census_OSBranch_low_dim'] = train['Census_OSBranch'].apply(lambda x : str(x) if str(x) in ['rs4_release', 'rs3_release', 'rs3_release_svc_escrow', 'rs2_release', 'rs1_release', 'th2_release', 'th2_release_sec', 'th1_st1'] else 'others')"
   ]
  },
  {
   "cell_type": "code",
   "execution_count": 20,
   "metadata": {
    "collapsed": true
   },
   "outputs": [],
   "source": [
    "test['Census_OSBranch_low_dim'] = test['Census_OSBranch'].apply(lambda x : str(x) if str(x) in ['rs4_release', 'rs3_release', 'rs3_release_svc_escrow', 'rs2_release', 'rs1_release', 'th2_release', 'th2_release_sec', 'th1_st1'] else 'others')"
   ]
  },
  {
   "cell_type": "code",
   "execution_count": 21,
   "metadata": {
    "collapsed": true
   },
   "outputs": [],
   "source": [
    "train['Census_OSEdition_low_dim'] = train['Census_OSEdition'].apply(lambda x : str(x) if str(x) in ['Core', 'Professional', 'CoreSingleLanguage', 'CoreCountrySpecific'] else 'others')"
   ]
  },
  {
   "cell_type": "code",
   "execution_count": 22,
   "metadata": {
    "collapsed": true
   },
   "outputs": [],
   "source": [
    "test['Census_OSEdition_low_dim'] = test['Census_OSEdition'].apply(lambda x : str(x) if str(x) in ['Core', 'Professional', 'CoreSingleLanguage', 'CoreCountrySpecific'] else 'others')"
   ]
  },
  {
   "cell_type": "code",
   "execution_count": 23,
   "metadata": {
    "collapsed": true
   },
   "outputs": [],
   "source": [
    "train['Census_OSSkuName_low_dim'] = train['Census_OSSkuName'].apply(lambda x : str(x) if str(x) in ['CORE', 'PROFESSIONAL', 'CORE_SINGLELANGUAGE', 'CORE_COUNTRYSPECIFIC'] else 'others')"
   ]
  },
  {
   "cell_type": "code",
   "execution_count": 24,
   "metadata": {
    "collapsed": true
   },
   "outputs": [],
   "source": [
    "test['Census_OSSkuName_low_dim'] = test['Census_OSSkuName'].apply(lambda x : str(x) if str(x) in ['CORE', 'PROFESSIONAL', 'CORE_SINGLELANGUAGE', 'CORE_COUNTRYSPECIFIC'] else 'others')"
   ]
  },
  {
   "cell_type": "code",
   "execution_count": 25,
   "metadata": {
    "collapsed": true
   },
   "outputs": [],
   "source": [
    "train['Census_FlightRing_low_dim'] = train['Census_FlightRing'].apply(lambda x : str(x) if str(x) in ['Retail', 'NOT_SET', 'Unknown'] else 'others')"
   ]
  },
  {
   "cell_type": "code",
   "execution_count": 26,
   "metadata": {
    "collapsed": true
   },
   "outputs": [],
   "source": [
    "test['Census_FlightRing_low_dim'] = test['Census_FlightRing'].apply(lambda x : str(x) if str(x) in ['Retail', 'NOT_SET', 'Unknown'] else 'others')"
   ]
  },
  {
   "cell_type": "code",
   "execution_count": 27,
   "metadata": {
    "collapsed": true
   },
   "outputs": [],
   "source": [
    "train['EngineVersion_low_dim'] = train['EngineVersion'].apply(lambda x : str(x) if str(x) in ['1.1.15200.1', '1.1.15100.1', '1.1.15000.2', '1.1.14901.4', '1.1.14600.4', '1.1.14800.3', '1.1.15300.6', '1.1.14104.0'] else 'others')"
   ]
  },
  {
   "cell_type": "code",
   "execution_count": 28,
   "metadata": {
    "collapsed": true
   },
   "outputs": [],
   "source": [
    "test['EngineVersion_low_dim'] = test['EngineVersion'].apply(lambda x : str(x) if str(x) in ['1.1.15200.1', '1.1.15100.1', '1.1.15000.2', '1.1.14901.4', '1.1.14600.4', '1.1.14800.3', '1.1.15300.6', '1.1.14104.0'] else 'others')"
   ]
  },
  {
   "cell_type": "code",
   "execution_count": 47,
   "metadata": {
    "collapsed": true
   },
   "outputs": [],
   "source": [
    "#AppVersion : Ignore as several test values in not present in train set, and their distributions are different"
   ]
  },
  {
   "cell_type": "code",
   "execution_count": 29,
   "metadata": {
    "collapsed": true
   },
   "outputs": [],
   "source": [
    "train['OsBuildLab_low_dim'] = train['OsBuildLab'].apply(lambda x : str(x) if str(x) in ['17134.1.amd64fre.rs4_release.180410-1804', '16299.431.amd64fre.rs3_release_svc_escrow.180502-1908', '16299.15.amd64fre.rs3_release.170928-1534', '15063.0.amd64fre.rs2_release.170317-1834', '17134.1.x86fre.rs4_release.180410-1804', '16299.15.x86fre.rs3_release.170928-1534', '14393.2189.amd64fre.rs1_release.180329-1711', '10240.17443.amd64fre.th1.170602-2340', '10586.1176.amd64fre.th2_release_sec.170913-1848'] else 'others')"
   ]
  },
  {
   "cell_type": "code",
   "execution_count": 30,
   "metadata": {
    "collapsed": true
   },
   "outputs": [],
   "source": [
    "test['OsBuildLab_low_dim'] = test['OsBuildLab'].apply(lambda x : str(x) if str(x) in ['17134.1.amd64fre.rs4_release.180410-1804', '16299.431.amd64fre.rs3_release_svc_escrow.180502-1908', '16299.15.amd64fre.rs3_release.170928-1534', '15063.0.amd64fre.rs2_release.170317-1834', '17134.1.x86fre.rs4_release.180410-1804', '16299.15.x86fre.rs3_release.170928-1534', '14393.2189.amd64fre.rs1_release.180329-1711', '10240.17443.amd64fre.th1.170602-2340', '10586.1176.amd64fre.th2_release_sec.170913-1848'] else 'others')"
   ]
  },
  {
   "cell_type": "code",
   "execution_count": 31,
   "metadata": {
    "collapsed": true
   },
   "outputs": [],
   "source": [
    "train_low_dim_one_hot = pd.get_dummies(train[['OsVer_low_dim', 'Census_ChassisTypeName_low_dim', 'Census_OSBranch_low_dim', 'Census_OSEdition_low_dim', 'Census_OSSkuName_low_dim', 'Census_FlightRing_low_dim', 'EngineVersion_low_dim', 'OsBuildLab_low_dim', 'Census_MDC2FormFactor_low_dim', 'SmartScreen_low_dim']])"
   ]
  },
  {
   "cell_type": "code",
   "execution_count": 32,
   "metadata": {
    "collapsed": true
   },
   "outputs": [],
   "source": [
    "test_low_dim_one_hot = pd.get_dummies(test[['OsVer_low_dim', 'Census_ChassisTypeName_low_dim', 'Census_OSBranch_low_dim', 'Census_OSEdition_low_dim', 'Census_OSSkuName_low_dim', 'Census_FlightRing_low_dim', 'EngineVersion_low_dim', 'OsBuildLab_low_dim', 'Census_MDC2FormFactor_low_dim', 'SmartScreen_low_dim']])"
   ]
  },
  {
   "cell_type": "code",
   "execution_count": 33,
   "metadata": {
    "collapsed": true
   },
   "outputs": [],
   "source": [
    "train_removed = train.drop(['Census_InternalPrimaryDisplayResolutionVertical', 'Census_OSBuildNumber', 'Census_OSUILocaleIdentifier', 'MachineIdentifier', 'Census_InternalBatteryType', 'Census_IsFlightingInternal', 'Census_IsWIMBootEnabled', 'Census_ProcessorClass', 'Census_ThresholdOptIn', 'DefaultBrowsersIdentifier', 'PuaMode', 'SMode', 'AppVersion','ProductName','IsBeta','IsSxsPassiveMode','Platform','Processor','OsPlatformSubRelease','Census_MDC2FormFactor','Census_DeviceFamily','Census_ProcessorClass','Census_PrimaryDiskTypeName','SkuEdition','PuaMode','SmartScreen','Census_PowerPlatformRoleName','Census_OSArchitecture','Census_OSInstallTypeName','Census_OSWUAutoUpdateOptionsName','Census_GenuineStateName','Census_ActivationChannel','OsVer', 'Census_ChassisTypeName','Census_OSBranch','Census_OSEdition','Census_OSSkuName','Census_FlightRing','EngineVersion','OsBuildLab', 'AvSigVersion', 'Census_OSVersion', 'AvSigVersion','Census_OSVersion','OsVer_low_dim','Census_ChassisTypeName_low_dim','Census_OSBranch_low_dim','Census_OSEdition_low_dim','Census_OSSkuName_low_dim','Census_FlightRing_low_dim','EngineVersion_low_dim','OsBuildLab_low_dim','Census_MDC2FormFactor_low_dim', 'SmartScreen_low_dim'],axis=1)\n",
    "test_removed = test.drop(['Census_InternalPrimaryDisplayResolutionVertical', 'Census_OSBuildNumber', 'Census_OSUILocaleIdentifier', 'MachineIdentifier', 'Census_InternalBatteryType', 'Census_IsFlightingInternal', 'Census_IsWIMBootEnabled', 'Census_ProcessorClass', 'Census_ThresholdOptIn', 'DefaultBrowsersIdentifier', 'PuaMode', 'SMode', 'AppVersion','ProductName','IsBeta','IsSxsPassiveMode','Platform','Processor','OsPlatformSubRelease','Census_MDC2FormFactor','Census_DeviceFamily','Census_ProcessorClass','Census_PrimaryDiskTypeName','SkuEdition','PuaMode','SmartScreen','Census_PowerPlatformRoleName','Census_OSArchitecture','Census_OSInstallTypeName','Census_OSWUAutoUpdateOptionsName','Census_GenuineStateName','Census_ActivationChannel','OsVer', 'Census_ChassisTypeName','Census_OSBranch','Census_OSEdition','Census_OSSkuName','Census_FlightRing','EngineVersion','OsBuildLab', 'AvSigVersion', 'Census_OSVersion','AvSigVersion','Census_OSVersion','OsVer_low_dim','Census_ChassisTypeName_low_dim','Census_OSBranch_low_dim','Census_OSEdition_low_dim','Census_OSSkuName_low_dim','Census_FlightRing_low_dim','EngineVersion_low_dim','OsBuildLab_low_dim', 'Census_MDC2FormFactor_low_dim', 'SmartScreen_low_dim'],axis=1)"
   ]
  },
  {
   "cell_type": "code",
   "execution_count": 34,
   "metadata": {
    "collapsed": true
   },
   "outputs": [],
   "source": [
    "train_use = pd.concat([train_removed, train_one_hot, train_low_dim_one_hot], axis=1)"
   ]
  },
  {
   "cell_type": "code",
   "execution_count": 35,
   "metadata": {
    "collapsed": true
   },
   "outputs": [],
   "source": [
    "test_use = pd.concat([test_removed, test_one_hot, test_low_dim_one_hot], axis=1)"
   ]
  },
  {
   "cell_type": "code",
   "execution_count": 36,
   "metadata": {},
   "outputs": [
    {
     "data": {
      "text/plain": [
       "194"
      ]
     },
     "execution_count": 36,
     "metadata": {},
     "output_type": "execute_result"
    }
   ],
   "source": [
    "len(train_use.columns)"
   ]
  },
  {
   "cell_type": "code",
   "execution_count": 37,
   "metadata": {},
   "outputs": [
    {
     "data": {
      "text/plain": [
       "193"
      ]
     },
     "execution_count": 37,
     "metadata": {},
     "output_type": "execute_result"
    }
   ],
   "source": [
    "len(test_use.columns)"
   ]
  },
  {
   "cell_type": "code",
   "execution_count": 38,
   "metadata": {},
   "outputs": [
    {
     "data": {
      "text/plain": [
       "{'HasDetections'}"
      ]
     },
     "execution_count": 38,
     "metadata": {},
     "output_type": "execute_result"
    }
   ],
   "source": [
    "set(train_use.columns) - set(test_use.columns)"
   ]
  },
  {
   "cell_type": "code",
   "execution_count": 39,
   "metadata": {},
   "outputs": [
    {
     "data": {
      "text/plain": [
       "set()"
      ]
     },
     "execution_count": 39,
     "metadata": {},
     "output_type": "execute_result"
    }
   ],
   "source": [
    "set(test_use.columns) - set(train_use.columns)"
   ]
  },
  {
   "cell_type": "code",
   "execution_count": 40,
   "metadata": {
    "collapsed": true
   },
   "outputs": [],
   "source": [
    "for col in train_use.columns:\n",
    "    if train_use[col].dtype=='O':\n",
    "        print(col)"
   ]
  },
  {
   "cell_type": "code",
   "execution_count": 41,
   "metadata": {
    "collapsed": true
   },
   "outputs": [],
   "source": [
    "for col in test_use.columns:\n",
    "    if test_use[col].dtype=='O':\n",
    "        print(col)"
   ]
  },
  {
   "cell_type": "code",
   "execution_count": 42,
   "metadata": {},
   "outputs": [
    {
     "data": {
      "text/html": [
       "<div>\n",
       "<style>\n",
       "    .dataframe thead tr:only-child th {\n",
       "        text-align: right;\n",
       "    }\n",
       "\n",
       "    .dataframe thead th {\n",
       "        text-align: left;\n",
       "    }\n",
       "\n",
       "    .dataframe tbody tr th {\n",
       "        vertical-align: top;\n",
       "    }\n",
       "</style>\n",
       "<table border=\"1\" class=\"dataframe\">\n",
       "  <thead>\n",
       "    <tr style=\"text-align: right;\">\n",
       "      <th></th>\n",
       "      <th>RtpStateBitfield</th>\n",
       "      <th>AVProductStatesIdentifier</th>\n",
       "      <th>AVProductsInstalled</th>\n",
       "      <th>AVProductsEnabled</th>\n",
       "      <th>HasTpm</th>\n",
       "      <th>CountryIdentifier</th>\n",
       "      <th>CityIdentifier</th>\n",
       "      <th>OrganizationIdentifier</th>\n",
       "      <th>GeoNameIdentifier</th>\n",
       "      <th>LocaleEnglishNameIdentifier</th>\n",
       "      <th>...</th>\n",
       "      <th>Census_MDC2FormFactor_low_dim_Notebook</th>\n",
       "      <th>Census_MDC2FormFactor_low_dim_PCOther</th>\n",
       "      <th>Census_MDC2FormFactor_low_dim_others</th>\n",
       "      <th>SmartScreen_low_dim_Block</th>\n",
       "      <th>SmartScreen_low_dim_ExistsNotSet</th>\n",
       "      <th>SmartScreen_low_dim_Off</th>\n",
       "      <th>SmartScreen_low_dim_Prompt</th>\n",
       "      <th>SmartScreen_low_dim_RequireAdmin</th>\n",
       "      <th>SmartScreen_low_dim_Warn</th>\n",
       "      <th>SmartScreen_low_dim_others</th>\n",
       "    </tr>\n",
       "  </thead>\n",
       "  <tbody>\n",
       "    <tr>\n",
       "      <th>0</th>\n",
       "      <td>7.0</td>\n",
       "      <td>53447.0</td>\n",
       "      <td>1.0</td>\n",
       "      <td>1.0</td>\n",
       "      <td>1</td>\n",
       "      <td>29</td>\n",
       "      <td>128035.0</td>\n",
       "      <td>18.0</td>\n",
       "      <td>35.0</td>\n",
       "      <td>171</td>\n",
       "      <td>...</td>\n",
       "      <td>0</td>\n",
       "      <td>0</td>\n",
       "      <td>0</td>\n",
       "      <td>0</td>\n",
       "      <td>0</td>\n",
       "      <td>0</td>\n",
       "      <td>0</td>\n",
       "      <td>0</td>\n",
       "      <td>0</td>\n",
       "      <td>1</td>\n",
       "    </tr>\n",
       "    <tr>\n",
       "      <th>1</th>\n",
       "      <td>7.0</td>\n",
       "      <td>53447.0</td>\n",
       "      <td>1.0</td>\n",
       "      <td>1.0</td>\n",
       "      <td>1</td>\n",
       "      <td>93</td>\n",
       "      <td>1482.0</td>\n",
       "      <td>18.0</td>\n",
       "      <td>119.0</td>\n",
       "      <td>64</td>\n",
       "      <td>...</td>\n",
       "      <td>1</td>\n",
       "      <td>0</td>\n",
       "      <td>0</td>\n",
       "      <td>0</td>\n",
       "      <td>0</td>\n",
       "      <td>0</td>\n",
       "      <td>0</td>\n",
       "      <td>0</td>\n",
       "      <td>0</td>\n",
       "      <td>1</td>\n",
       "    </tr>\n",
       "    <tr>\n",
       "      <th>2</th>\n",
       "      <td>7.0</td>\n",
       "      <td>53447.0</td>\n",
       "      <td>1.0</td>\n",
       "      <td>1.0</td>\n",
       "      <td>1</td>\n",
       "      <td>86</td>\n",
       "      <td>153579.0</td>\n",
       "      <td>18.0</td>\n",
       "      <td>64.0</td>\n",
       "      <td>49</td>\n",
       "      <td>...</td>\n",
       "      <td>0</td>\n",
       "      <td>0</td>\n",
       "      <td>0</td>\n",
       "      <td>0</td>\n",
       "      <td>0</td>\n",
       "      <td>0</td>\n",
       "      <td>0</td>\n",
       "      <td>1</td>\n",
       "      <td>0</td>\n",
       "      <td>0</td>\n",
       "    </tr>\n",
       "    <tr>\n",
       "      <th>3</th>\n",
       "      <td>7.0</td>\n",
       "      <td>53447.0</td>\n",
       "      <td>1.0</td>\n",
       "      <td>1.0</td>\n",
       "      <td>1</td>\n",
       "      <td>88</td>\n",
       "      <td>20710.0</td>\n",
       "      <td>NaN</td>\n",
       "      <td>117.0</td>\n",
       "      <td>115</td>\n",
       "      <td>...</td>\n",
       "      <td>0</td>\n",
       "      <td>0</td>\n",
       "      <td>0</td>\n",
       "      <td>0</td>\n",
       "      <td>1</td>\n",
       "      <td>0</td>\n",
       "      <td>0</td>\n",
       "      <td>0</td>\n",
       "      <td>0</td>\n",
       "      <td>0</td>\n",
       "    </tr>\n",
       "    <tr>\n",
       "      <th>4</th>\n",
       "      <td>7.0</td>\n",
       "      <td>53447.0</td>\n",
       "      <td>1.0</td>\n",
       "      <td>1.0</td>\n",
       "      <td>1</td>\n",
       "      <td>18</td>\n",
       "      <td>37376.0</td>\n",
       "      <td>NaN</td>\n",
       "      <td>277.0</td>\n",
       "      <td>75</td>\n",
       "      <td>...</td>\n",
       "      <td>1</td>\n",
       "      <td>0</td>\n",
       "      <td>0</td>\n",
       "      <td>0</td>\n",
       "      <td>0</td>\n",
       "      <td>0</td>\n",
       "      <td>0</td>\n",
       "      <td>1</td>\n",
       "      <td>0</td>\n",
       "      <td>0</td>\n",
       "    </tr>\n",
       "  </tbody>\n",
       "</table>\n",
       "<p>5 rows × 194 columns</p>\n",
       "</div>"
      ],
      "text/plain": [
       "   RtpStateBitfield  AVProductStatesIdentifier  AVProductsInstalled  \\\n",
       "0               7.0                    53447.0                  1.0   \n",
       "1               7.0                    53447.0                  1.0   \n",
       "2               7.0                    53447.0                  1.0   \n",
       "3               7.0                    53447.0                  1.0   \n",
       "4               7.0                    53447.0                  1.0   \n",
       "\n",
       "   AVProductsEnabled  HasTpm  CountryIdentifier  CityIdentifier  \\\n",
       "0                1.0       1                 29        128035.0   \n",
       "1                1.0       1                 93          1482.0   \n",
       "2                1.0       1                 86        153579.0   \n",
       "3                1.0       1                 88         20710.0   \n",
       "4                1.0       1                 18         37376.0   \n",
       "\n",
       "   OrganizationIdentifier  GeoNameIdentifier  LocaleEnglishNameIdentifier  \\\n",
       "0                    18.0               35.0                          171   \n",
       "1                    18.0              119.0                           64   \n",
       "2                    18.0               64.0                           49   \n",
       "3                     NaN              117.0                          115   \n",
       "4                     NaN              277.0                           75   \n",
       "\n",
       "              ...              Census_MDC2FormFactor_low_dim_Notebook  \\\n",
       "0             ...                                                   0   \n",
       "1             ...                                                   1   \n",
       "2             ...                                                   0   \n",
       "3             ...                                                   0   \n",
       "4             ...                                                   1   \n",
       "\n",
       "   Census_MDC2FormFactor_low_dim_PCOther  \\\n",
       "0                                      0   \n",
       "1                                      0   \n",
       "2                                      0   \n",
       "3                                      0   \n",
       "4                                      0   \n",
       "\n",
       "   Census_MDC2FormFactor_low_dim_others  SmartScreen_low_dim_Block  \\\n",
       "0                                     0                          0   \n",
       "1                                     0                          0   \n",
       "2                                     0                          0   \n",
       "3                                     0                          0   \n",
       "4                                     0                          0   \n",
       "\n",
       "   SmartScreen_low_dim_ExistsNotSet  SmartScreen_low_dim_Off  \\\n",
       "0                                 0                        0   \n",
       "1                                 0                        0   \n",
       "2                                 0                        0   \n",
       "3                                 1                        0   \n",
       "4                                 0                        0   \n",
       "\n",
       "   SmartScreen_low_dim_Prompt  SmartScreen_low_dim_RequireAdmin  \\\n",
       "0                           0                                 0   \n",
       "1                           0                                 0   \n",
       "2                           0                                 1   \n",
       "3                           0                                 0   \n",
       "4                           0                                 1   \n",
       "\n",
       "   SmartScreen_low_dim_Warn  SmartScreen_low_dim_others  \n",
       "0                         0                           1  \n",
       "1                         0                           1  \n",
       "2                         0                           0  \n",
       "3                         0                           0  \n",
       "4                         0                           0  \n",
       "\n",
       "[5 rows x 194 columns]"
      ]
     },
     "execution_count": 42,
     "metadata": {},
     "output_type": "execute_result"
    }
   ],
   "source": [
    "train_use.head()"
   ]
  },
  {
   "cell_type": "code",
   "execution_count": 43,
   "metadata": {},
   "outputs": [
    {
     "data": {
      "text/html": [
       "<div>\n",
       "<style>\n",
       "    .dataframe thead tr:only-child th {\n",
       "        text-align: right;\n",
       "    }\n",
       "\n",
       "    .dataframe thead th {\n",
       "        text-align: left;\n",
       "    }\n",
       "\n",
       "    .dataframe tbody tr th {\n",
       "        vertical-align: top;\n",
       "    }\n",
       "</style>\n",
       "<table border=\"1\" class=\"dataframe\">\n",
       "  <thead>\n",
       "    <tr style=\"text-align: right;\">\n",
       "      <th></th>\n",
       "      <th>RtpStateBitfield</th>\n",
       "      <th>AVProductStatesIdentifier</th>\n",
       "      <th>AVProductsInstalled</th>\n",
       "      <th>AVProductsEnabled</th>\n",
       "      <th>HasTpm</th>\n",
       "      <th>CountryIdentifier</th>\n",
       "      <th>CityIdentifier</th>\n",
       "      <th>OrganizationIdentifier</th>\n",
       "      <th>GeoNameIdentifier</th>\n",
       "      <th>LocaleEnglishNameIdentifier</th>\n",
       "      <th>...</th>\n",
       "      <th>Census_MDC2FormFactor_low_dim_Notebook</th>\n",
       "      <th>Census_MDC2FormFactor_low_dim_PCOther</th>\n",
       "      <th>Census_MDC2FormFactor_low_dim_others</th>\n",
       "      <th>SmartScreen_low_dim_Block</th>\n",
       "      <th>SmartScreen_low_dim_ExistsNotSet</th>\n",
       "      <th>SmartScreen_low_dim_Off</th>\n",
       "      <th>SmartScreen_low_dim_Prompt</th>\n",
       "      <th>SmartScreen_low_dim_RequireAdmin</th>\n",
       "      <th>SmartScreen_low_dim_Warn</th>\n",
       "      <th>SmartScreen_low_dim_others</th>\n",
       "    </tr>\n",
       "  </thead>\n",
       "  <tbody>\n",
       "    <tr>\n",
       "      <th>0</th>\n",
       "      <td>7.0</td>\n",
       "      <td>53447.0</td>\n",
       "      <td>1.0</td>\n",
       "      <td>1.0</td>\n",
       "      <td>1</td>\n",
       "      <td>43</td>\n",
       "      <td>58552.0</td>\n",
       "      <td>18.0</td>\n",
       "      <td>53.0</td>\n",
       "      <td>42</td>\n",
       "      <td>...</td>\n",
       "      <td>1</td>\n",
       "      <td>0</td>\n",
       "      <td>0</td>\n",
       "      <td>0</td>\n",
       "      <td>0</td>\n",
       "      <td>0</td>\n",
       "      <td>0</td>\n",
       "      <td>0</td>\n",
       "      <td>0</td>\n",
       "      <td>1</td>\n",
       "    </tr>\n",
       "    <tr>\n",
       "      <th>1</th>\n",
       "      <td>7.0</td>\n",
       "      <td>53447.0</td>\n",
       "      <td>1.0</td>\n",
       "      <td>1.0</td>\n",
       "      <td>1</td>\n",
       "      <td>68</td>\n",
       "      <td>71395.0</td>\n",
       "      <td>NaN</td>\n",
       "      <td>276.0</td>\n",
       "      <td>74</td>\n",
       "      <td>...</td>\n",
       "      <td>1</td>\n",
       "      <td>0</td>\n",
       "      <td>0</td>\n",
       "      <td>0</td>\n",
       "      <td>0</td>\n",
       "      <td>0</td>\n",
       "      <td>0</td>\n",
       "      <td>1</td>\n",
       "      <td>0</td>\n",
       "      <td>0</td>\n",
       "    </tr>\n",
       "    <tr>\n",
       "      <th>2</th>\n",
       "      <td>7.0</td>\n",
       "      <td>49480.0</td>\n",
       "      <td>2.0</td>\n",
       "      <td>1.0</td>\n",
       "      <td>1</td>\n",
       "      <td>201</td>\n",
       "      <td>66202.0</td>\n",
       "      <td>NaN</td>\n",
       "      <td>267.0</td>\n",
       "      <td>251</td>\n",
       "      <td>...</td>\n",
       "      <td>1</td>\n",
       "      <td>0</td>\n",
       "      <td>0</td>\n",
       "      <td>0</td>\n",
       "      <td>0</td>\n",
       "      <td>0</td>\n",
       "      <td>0</td>\n",
       "      <td>1</td>\n",
       "      <td>0</td>\n",
       "      <td>0</td>\n",
       "    </tr>\n",
       "    <tr>\n",
       "      <th>3</th>\n",
       "      <td>7.0</td>\n",
       "      <td>42160.0</td>\n",
       "      <td>2.0</td>\n",
       "      <td>1.0</td>\n",
       "      <td>1</td>\n",
       "      <td>29</td>\n",
       "      <td>120917.0</td>\n",
       "      <td>NaN</td>\n",
       "      <td>35.0</td>\n",
       "      <td>171</td>\n",
       "      <td>...</td>\n",
       "      <td>1</td>\n",
       "      <td>0</td>\n",
       "      <td>0</td>\n",
       "      <td>0</td>\n",
       "      <td>0</td>\n",
       "      <td>0</td>\n",
       "      <td>0</td>\n",
       "      <td>1</td>\n",
       "      <td>0</td>\n",
       "      <td>0</td>\n",
       "    </tr>\n",
       "    <tr>\n",
       "      <th>4</th>\n",
       "      <td>7.0</td>\n",
       "      <td>53447.0</td>\n",
       "      <td>1.0</td>\n",
       "      <td>1.0</td>\n",
       "      <td>1</td>\n",
       "      <td>171</td>\n",
       "      <td>124736.0</td>\n",
       "      <td>18.0</td>\n",
       "      <td>211.0</td>\n",
       "      <td>182</td>\n",
       "      <td>...</td>\n",
       "      <td>1</td>\n",
       "      <td>0</td>\n",
       "      <td>0</td>\n",
       "      <td>0</td>\n",
       "      <td>0</td>\n",
       "      <td>0</td>\n",
       "      <td>0</td>\n",
       "      <td>1</td>\n",
       "      <td>0</td>\n",
       "      <td>0</td>\n",
       "    </tr>\n",
       "  </tbody>\n",
       "</table>\n",
       "<p>5 rows × 193 columns</p>\n",
       "</div>"
      ],
      "text/plain": [
       "   RtpStateBitfield  AVProductStatesIdentifier  AVProductsInstalled  \\\n",
       "0               7.0                    53447.0                  1.0   \n",
       "1               7.0                    53447.0                  1.0   \n",
       "2               7.0                    49480.0                  2.0   \n",
       "3               7.0                    42160.0                  2.0   \n",
       "4               7.0                    53447.0                  1.0   \n",
       "\n",
       "   AVProductsEnabled  HasTpm  CountryIdentifier  CityIdentifier  \\\n",
       "0                1.0       1                 43         58552.0   \n",
       "1                1.0       1                 68         71395.0   \n",
       "2                1.0       1                201         66202.0   \n",
       "3                1.0       1                 29        120917.0   \n",
       "4                1.0       1                171        124736.0   \n",
       "\n",
       "   OrganizationIdentifier  GeoNameIdentifier  LocaleEnglishNameIdentifier  \\\n",
       "0                    18.0               53.0                           42   \n",
       "1                     NaN              276.0                           74   \n",
       "2                     NaN              267.0                          251   \n",
       "3                     NaN               35.0                          171   \n",
       "4                    18.0              211.0                          182   \n",
       "\n",
       "              ...              Census_MDC2FormFactor_low_dim_Notebook  \\\n",
       "0             ...                                                   1   \n",
       "1             ...                                                   1   \n",
       "2             ...                                                   1   \n",
       "3             ...                                                   1   \n",
       "4             ...                                                   1   \n",
       "\n",
       "   Census_MDC2FormFactor_low_dim_PCOther  \\\n",
       "0                                      0   \n",
       "1                                      0   \n",
       "2                                      0   \n",
       "3                                      0   \n",
       "4                                      0   \n",
       "\n",
       "   Census_MDC2FormFactor_low_dim_others  SmartScreen_low_dim_Block  \\\n",
       "0                                     0                          0   \n",
       "1                                     0                          0   \n",
       "2                                     0                          0   \n",
       "3                                     0                          0   \n",
       "4                                     0                          0   \n",
       "\n",
       "   SmartScreen_low_dim_ExistsNotSet  SmartScreen_low_dim_Off  \\\n",
       "0                                 0                        0   \n",
       "1                                 0                        0   \n",
       "2                                 0                        0   \n",
       "3                                 0                        0   \n",
       "4                                 0                        0   \n",
       "\n",
       "   SmartScreen_low_dim_Prompt  SmartScreen_low_dim_RequireAdmin  \\\n",
       "0                           0                                 0   \n",
       "1                           0                                 1   \n",
       "2                           0                                 1   \n",
       "3                           0                                 1   \n",
       "4                           0                                 1   \n",
       "\n",
       "   SmartScreen_low_dim_Warn  SmartScreen_low_dim_others  \n",
       "0                         0                           1  \n",
       "1                         0                           0  \n",
       "2                         0                           0  \n",
       "3                         0                           0  \n",
       "4                         0                           0  \n",
       "\n",
       "[5 rows x 193 columns]"
      ]
     },
     "execution_count": 43,
     "metadata": {},
     "output_type": "execute_result"
    }
   ],
   "source": [
    "test_use.head()"
   ]
  },
  {
   "cell_type": "code",
   "execution_count": 44,
   "metadata": {
    "collapsed": true
   },
   "outputs": [],
   "source": [
    "train_use.to_csv('/data/kaggle_microsoft/train_use.csv', index = False)"
   ]
  },
  {
   "cell_type": "code",
   "execution_count": 45,
   "metadata": {
    "collapsed": true
   },
   "outputs": [],
   "source": [
    "test_use.to_csv('/data/kaggle_microsoft/test_use.csv', index = False)"
   ]
  },
  {
   "cell_type": "markdown",
   "metadata": {
    "collapsed": true
   },
   "source": [
    "# Label encoder [Map to 0,1,2 ...]\n",
    "\n",
    "## Sort then label encoder use\n",
    "AvSigVersion [Remember: Test dataset has more different values] <br>\n",
    "Census_OSVersion [Remember: Test dataset has more different values]"
   ]
  },
  {
   "cell_type": "code",
   "execution_count": 57,
   "metadata": {
    "collapsed": true
   },
   "outputs": [],
   "source": [
    "# le1 = preprocessing.LabelEncoder()\n",
    "# le1.fit(train['AvSigVersion'])\n",
    "\n",
    "# le2 = preprocessing.LabelEncoder()\n",
    "# le2.fit(train['Census_OSVersion'])"
   ]
  },
  {
   "cell_type": "code",
   "execution_count": 54,
   "metadata": {
    "collapsed": true
   },
   "outputs": [],
   "source": [
    "#train['AvSigVersion_encoded'] = le1.transform(train['AvSigVersion'])"
   ]
  },
  {
   "cell_type": "code",
   "execution_count": 56,
   "metadata": {
    "collapsed": true
   },
   "outputs": [],
   "source": [
    "#le1.transform(test['AvSigVersion'])"
   ]
  },
  {
   "cell_type": "markdown",
   "metadata": {},
   "source": [
    "## Ignore AvSigVersion and Census_OSVersion for the time being"
   ]
  },
  {
   "cell_type": "markdown",
   "metadata": {},
   "source": [
    "# Target\n",
    "HasDetections"
   ]
  },
  {
   "cell_type": "markdown",
   "metadata": {
    "collapsed": true
   },
   "source": [
    "# As it is\n",
    "All the rest"
   ]
  },
  {
   "cell_type": "code",
   "execution_count": null,
   "metadata": {
    "collapsed": true
   },
   "outputs": [],
   "source": [
    "train_one_hot\n",
    "test_one_hot\n",
    "\n",
    "train_low_dim_one_hot\n",
    "test_low_dim_one_hot"
   ]
  },
  {
   "cell_type": "markdown",
   "metadata": {},
   "source": [
    "# Future Work\n",
    "\n",
    "1) May parse into parts : OsBuildLab\n",
    "\n",
    "2) Their exists various variables which are getting numeric but are categorical if their definitions is looked after from https://www.kaggle.com/c/microsoft-malware-prediction/data. May treat them seperately\n",
    "\n",
    "3) EngineVersion may be encoded after sorting by name (text)"
   ]
  },
  {
   "cell_type": "code",
   "execution_count": 22,
   "metadata": {},
   "outputs": [
    {
     "name": "stdout",
     "output_type": "stream",
     "text": [
      "MachineIdentifier\n",
      "ProductName\n",
      "EngineVersion\n",
      "AppVersion\n",
      "AvSigVersion\n",
      "Platform\n",
      "Processor\n",
      "OsVer\n",
      "OsPlatformSubRelease\n",
      "OsBuildLab\n",
      "SkuEdition\n",
      "PuaMode\n",
      "SmartScreen\n",
      "Census_MDC2FormFactor\n",
      "Census_DeviceFamily\n",
      "Census_ProcessorClass\n",
      "Census_PrimaryDiskTypeName\n",
      "Census_ChassisTypeName\n",
      "Census_PowerPlatformRoleName\n",
      "Census_InternalBatteryType\n",
      "Census_OSVersion\n",
      "Census_OSArchitecture\n",
      "Census_OSBranch\n",
      "Census_OSEdition\n",
      "Census_OSSkuName\n",
      "Census_OSInstallTypeName\n",
      "Census_OSWUAutoUpdateOptionsName\n",
      "Census_GenuineStateName\n",
      "Census_ActivationChannel\n",
      "Census_FlightRing\n"
     ]
    }
   ],
   "source": [
    "for col in train.columns:\n",
    "    if train[col].dtype=='O':\n",
    "        print(col)"
   ]
  },
  {
   "cell_type": "markdown",
   "metadata": {
    "collapsed": true
   },
   "source": [
    "# Model building"
   ]
  },
  {
   "cell_type": "code",
   "execution_count": 4,
   "metadata": {},
   "outputs": [
    {
     "name": "stderr",
     "output_type": "stream",
     "text": [
      "/root/anaconda3/lib/python3.6/site-packages/sklearn/ensemble/weight_boosting.py:29: DeprecationWarning: numpy.core.umath_tests is an internal NumPy module and should not be imported. It will be removed in a future NumPy release.\n",
      "  from numpy.core.umath_tests import inner1d\n"
     ]
    }
   ],
   "source": [
    "import numpy as np\n",
    "import pandas as pd\n",
    "import matplotlib.pyplot as plt\n",
    "from datetime import datetime\n",
    "from IPython import get_ipython\n",
    "import seaborn as sns\n",
    "from sklearn.feature_selection import RFECV,RFE,VarianceThreshold\n",
    "from sklearn.ensemble import RandomForestClassifier,GradientBoostingClassifier,ExtraTreesClassifier\n",
    "from sklearn.linear_model import LogisticRegression\n",
    "from sklearn.metrics import accuracy_score,roc_curve,classification_report,confusion_matrix,precision_recall_curve,auc\n",
    "from sklearn.preprocessing import StandardScaler,scale,Normalizer\n",
    "from sklearn.model_selection import train_test_split,GridSearchCV,RandomizedSearchCV,cross_val_score\n",
    "from xgboost import XGBClassifier\n",
    "from sklearn.decomposition import PCA\n",
    "from sklearn.preprocessing import scale,StandardScaler,RobustScaler,Normalizer\n",
    "from sklearn.feature_selection import SelectKBest,f_regression,f_classif,SelectFromModel\n",
    "import xgboost as xgb\n",
    "import warnings\n",
    "\n",
    "% matplotlib inline\n",
    "warnings.filterwarnings('ignore')"
   ]
  },
  {
   "cell_type": "code",
   "execution_count": 5,
   "metadata": {
    "collapsed": true
   },
   "outputs": [],
   "source": [
    "train_use = pd.read_csv('/data/kaggle_microsoft/train_use.csv')"
   ]
  },
  {
   "cell_type": "code",
   "execution_count": 6,
   "metadata": {
    "collapsed": true
   },
   "outputs": [],
   "source": [
    "test_use = pd.read_csv('/data/kaggle_microsoft/test_use.csv')"
   ]
  },
  {
   "cell_type": "markdown",
   "metadata": {},
   "source": [
    "## Missing value treatment : Yet to be done\n",
    "\n",
    "\n"
   ]
  },
  {
   "cell_type": "code",
   "execution_count": null,
   "metadata": {
    "collapsed": true
   },
   "outputs": [],
   "source": []
  },
  {
   "cell_type": "code",
   "execution_count": 7,
   "metadata": {
    "collapsed": true
   },
   "outputs": [],
   "source": [
    "X = train_use.drop(['HasDetections'], axis =1)\n",
    "y = train_use['HasDetections']\n",
    "train_X, test_X, train_y, test_y = train_test_split(X, y, test_size=0.33, random_state=42,stratify = y)"
   ]
  },
  {
   "cell_type": "code",
   "execution_count": 8,
   "metadata": {
    "collapsed": true
   },
   "outputs": [],
   "source": [
    "## function for plotting importance\n",
    "def plot_importance(var,imp):\n",
    "    plt.figure(figsize=(8,6))\n",
    "    plt.barh(range(len(var)),imp,align='center')\n",
    "    plt.yticks(range(len(var)),var)\n",
    "    plt.xlabel('Importance of features')\n",
    "    plt.ylabel('Features')\n",
    "    plt.show()"
   ]
  },
  {
   "cell_type": "code",
   "execution_count": 17,
   "metadata": {
    "collapsed": true
   },
   "outputs": [],
   "source": [
    "##Function to fit model on training data and gives accuracy and confusion matrix of train,validation and test data\n",
    "def model(clf,train_X,train_y,test_X,test_y):\n",
    "    clf.fit(train_X,train_y)  # fitting model\n",
    "    #scoring data\n",
    "\n",
    "    pred_tr=clf.predict(train_X)\n",
    "    pred_test=clf.predict(test_X)\n",
    "    fig, ax = plt.subplots(figsize=(8,6))\n",
    "    print ('\\nTraining Accuracy:{}'.format(accuracy_score(train_y,pred_tr)))\n",
    "    print ('Training Confusion Matrix \\n{}'.format(confusion_matrix(train_y,pred_tr)))\n",
    "    print('Classification Report: \\n{}'.format(classification_report(train_y,pred_tr)))\n",
    "    pred_pr_tr=clf.predict_proba(train_X)[:,1]\n",
    "    pred_pr_test=clf.predict_proba(test_X)[:,1]\n",
    "    fpr,tpr,threshold=roc_curve(train_y,pred_pr_tr)\n",
    "    ax.plot(fpr,tpr,label='Training AUC')\n",
    "    print ('\\nAUC:{}\\n'.format(auc(fpr,tpr)))\n",
    "\n",
    "    print ('\\nTest Accuracy:{}'.format(accuracy_score(test_y,pred_test)))\n",
    "    print ('Test Confusion Matrix \\n{}'.format(confusion_matrix(test_y,pred_test)))\n",
    "    print('Classification Report: \\n{}'.format(classification_report(test_y,pred_test)))\n",
    "    fpr,tpr,threshold=roc_curve(test_y,pred_pr_test)\n",
    "    print ('\\nAUC:{}\\n'.format(auc(fpr,tpr)))\n",
    "    ax.plot(fpr,tpr,label='Test AUC')\n",
    "    plt.xlabel('False Positive Rate')\n",
    "    plt.ylabel('True Positive Rate')\n",
    "    ax.legend(loc='best')\n",
    "    plt.show()"
   ]
  },
  {
   "cell_type": "code",
   "execution_count": 6,
   "metadata": {},
   "outputs": [
    {
     "name": "stdout",
     "output_type": "stream",
     "text": [
      "***********Logistic Regression**********\n"
     ]
    },
    {
     "ename": "ValueError",
     "evalue": "Input contains NaN, infinity or a value too large for dtype('float64').",
     "output_type": "error",
     "traceback": [
      "\u001b[0;31m---------------------------------------------------------------------------\u001b[0m",
      "\u001b[0;31mValueError\u001b[0m                                Traceback (most recent call last)",
      "\u001b[0;32m<ipython-input-6-57c8fab1b354>\u001b[0m in \u001b[0;36m<module>\u001b[0;34m()\u001b[0m\n\u001b[1;32m      1\u001b[0m \u001b[0mprint\u001b[0m\u001b[0;34m(\u001b[0m \u001b[0;34m'***********Logistic Regression**********'\u001b[0m\u001b[0;34m)\u001b[0m\u001b[0;34m\u001b[0m\u001b[0m\n\u001b[1;32m      2\u001b[0m \u001b[0mlr_clf\u001b[0m\u001b[0;34m=\u001b[0m\u001b[0mLogisticRegression\u001b[0m\u001b[0;34m(\u001b[0m\u001b[0mrandom_state\u001b[0m\u001b[0;34m=\u001b[0m\u001b[0;36m1\u001b[0m\u001b[0;34m)\u001b[0m\u001b[0;34m\u001b[0m\u001b[0m\n\u001b[0;32m----> 3\u001b[0;31m \u001b[0mmodel\u001b[0m\u001b[0;34m(\u001b[0m\u001b[0mlr_clf\u001b[0m\u001b[0;34m,\u001b[0m\u001b[0mtrain_X\u001b[0m\u001b[0;34m,\u001b[0m\u001b[0mtrain_y\u001b[0m\u001b[0;34m,\u001b[0m\u001b[0mtest_X\u001b[0m\u001b[0;34m,\u001b[0m\u001b[0mtest_y\u001b[0m\u001b[0;34m)\u001b[0m\u001b[0;34m\u001b[0m\u001b[0m\n\u001b[0m\u001b[1;32m      4\u001b[0m \u001b[0;34m\u001b[0m\u001b[0m\n\u001b[1;32m      5\u001b[0m \u001b[0mlr_train\u001b[0m\u001b[0;34m=\u001b[0m\u001b[0mlr_clf\u001b[0m\u001b[0;34m.\u001b[0m\u001b[0mpredict\u001b[0m\u001b[0;34m(\u001b[0m\u001b[0mtrain_X\u001b[0m\u001b[0;34m)\u001b[0m\u001b[0;34m\u001b[0m\u001b[0m\n",
      "\u001b[0;32m<ipython-input-5-bf252ff0458f>\u001b[0m in \u001b[0;36mmodel\u001b[0;34m(clf, train_X, train_y, test_X, test_y)\u001b[0m\n\u001b[1;32m      1\u001b[0m \u001b[0;31m##Function to fit model on training data and gives accuracy and confusion matrix of train,validation and test data\u001b[0m\u001b[0;34m\u001b[0m\u001b[0;34m\u001b[0m\u001b[0m\n\u001b[1;32m      2\u001b[0m \u001b[0;32mdef\u001b[0m \u001b[0mmodel\u001b[0m\u001b[0;34m(\u001b[0m\u001b[0mclf\u001b[0m\u001b[0;34m,\u001b[0m\u001b[0mtrain_X\u001b[0m\u001b[0;34m,\u001b[0m\u001b[0mtrain_y\u001b[0m\u001b[0;34m,\u001b[0m\u001b[0mtest_X\u001b[0m\u001b[0;34m,\u001b[0m\u001b[0mtest_y\u001b[0m\u001b[0;34m)\u001b[0m\u001b[0;34m:\u001b[0m\u001b[0;34m\u001b[0m\u001b[0m\n\u001b[0;32m----> 3\u001b[0;31m     \u001b[0mclf\u001b[0m\u001b[0;34m.\u001b[0m\u001b[0mfit\u001b[0m\u001b[0;34m(\u001b[0m\u001b[0mtrain_X\u001b[0m\u001b[0;34m,\u001b[0m\u001b[0mtrain_y\u001b[0m\u001b[0;34m)\u001b[0m  \u001b[0;31m# fitting model\u001b[0m\u001b[0;34m\u001b[0m\u001b[0m\n\u001b[0m\u001b[1;32m      4\u001b[0m     \u001b[0;31m#scoring data\u001b[0m\u001b[0;34m\u001b[0m\u001b[0;34m\u001b[0m\u001b[0m\n\u001b[1;32m      5\u001b[0m \u001b[0;34m\u001b[0m\u001b[0m\n",
      "\u001b[0;32m~/anaconda3/lib/python3.6/site-packages/sklearn/linear_model/logistic.py\u001b[0m in \u001b[0;36mfit\u001b[0;34m(self, X, y, sample_weight)\u001b[0m\n\u001b[1;32m   1214\u001b[0m \u001b[0;34m\u001b[0m\u001b[0m\n\u001b[1;32m   1215\u001b[0m         X, y = check_X_y(X, y, accept_sparse='csr', dtype=_dtype,\n\u001b[0;32m-> 1216\u001b[0;31m                          order=\"C\")\n\u001b[0m\u001b[1;32m   1217\u001b[0m         \u001b[0mcheck_classification_targets\u001b[0m\u001b[0;34m(\u001b[0m\u001b[0my\u001b[0m\u001b[0;34m)\u001b[0m\u001b[0;34m\u001b[0m\u001b[0m\n\u001b[1;32m   1218\u001b[0m         \u001b[0mself\u001b[0m\u001b[0;34m.\u001b[0m\u001b[0mclasses_\u001b[0m \u001b[0;34m=\u001b[0m \u001b[0mnp\u001b[0m\u001b[0;34m.\u001b[0m\u001b[0munique\u001b[0m\u001b[0;34m(\u001b[0m\u001b[0my\u001b[0m\u001b[0;34m)\u001b[0m\u001b[0;34m\u001b[0m\u001b[0m\n",
      "\u001b[0;32m~/anaconda3/lib/python3.6/site-packages/sklearn/utils/validation.py\u001b[0m in \u001b[0;36mcheck_X_y\u001b[0;34m(X, y, accept_sparse, dtype, order, copy, force_all_finite, ensure_2d, allow_nd, multi_output, ensure_min_samples, ensure_min_features, y_numeric, warn_on_dtype, estimator)\u001b[0m\n\u001b[1;32m    571\u001b[0m     X = check_array(X, accept_sparse, dtype, order, copy, force_all_finite,\n\u001b[1;32m    572\u001b[0m                     \u001b[0mensure_2d\u001b[0m\u001b[0;34m,\u001b[0m \u001b[0mallow_nd\u001b[0m\u001b[0;34m,\u001b[0m \u001b[0mensure_min_samples\u001b[0m\u001b[0;34m,\u001b[0m\u001b[0;34m\u001b[0m\u001b[0m\n\u001b[0;32m--> 573\u001b[0;31m                     ensure_min_features, warn_on_dtype, estimator)\n\u001b[0m\u001b[1;32m    574\u001b[0m     \u001b[0;32mif\u001b[0m \u001b[0mmulti_output\u001b[0m\u001b[0;34m:\u001b[0m\u001b[0;34m\u001b[0m\u001b[0m\n\u001b[1;32m    575\u001b[0m         y = check_array(y, 'csr', force_all_finite=True, ensure_2d=False,\n",
      "\u001b[0;32m~/anaconda3/lib/python3.6/site-packages/sklearn/utils/validation.py\u001b[0m in \u001b[0;36mcheck_array\u001b[0;34m(array, accept_sparse, dtype, order, copy, force_all_finite, ensure_2d, allow_nd, ensure_min_samples, ensure_min_features, warn_on_dtype, estimator)\u001b[0m\n\u001b[1;32m    451\u001b[0m                              % (array.ndim, estimator_name))\n\u001b[1;32m    452\u001b[0m         \u001b[0;32mif\u001b[0m \u001b[0mforce_all_finite\u001b[0m\u001b[0;34m:\u001b[0m\u001b[0;34m\u001b[0m\u001b[0m\n\u001b[0;32m--> 453\u001b[0;31m             \u001b[0m_assert_all_finite\u001b[0m\u001b[0;34m(\u001b[0m\u001b[0marray\u001b[0m\u001b[0;34m)\u001b[0m\u001b[0;34m\u001b[0m\u001b[0m\n\u001b[0m\u001b[1;32m    454\u001b[0m \u001b[0;34m\u001b[0m\u001b[0m\n\u001b[1;32m    455\u001b[0m     \u001b[0mshape_repr\u001b[0m \u001b[0;34m=\u001b[0m \u001b[0m_shape_repr\u001b[0m\u001b[0;34m(\u001b[0m\u001b[0marray\u001b[0m\u001b[0;34m.\u001b[0m\u001b[0mshape\u001b[0m\u001b[0;34m)\u001b[0m\u001b[0;34m\u001b[0m\u001b[0m\n",
      "\u001b[0;32m~/anaconda3/lib/python3.6/site-packages/sklearn/utils/validation.py\u001b[0m in \u001b[0;36m_assert_all_finite\u001b[0;34m(X)\u001b[0m\n\u001b[1;32m     42\u001b[0m             and not np.isfinite(X).all()):\n\u001b[1;32m     43\u001b[0m         raise ValueError(\"Input contains NaN, infinity\"\n\u001b[0;32m---> 44\u001b[0;31m                          \" or a value too large for %r.\" % X.dtype)\n\u001b[0m\u001b[1;32m     45\u001b[0m \u001b[0;34m\u001b[0m\u001b[0m\n\u001b[1;32m     46\u001b[0m \u001b[0;34m\u001b[0m\u001b[0m\n",
      "\u001b[0;31mValueError\u001b[0m: Input contains NaN, infinity or a value too large for dtype('float64')."
     ]
    }
   ],
   "source": [
    "print( '***********Logistic Regression**********')\n",
    "lr_clf=LogisticRegression(random_state=1)\n",
    "model(lr_clf,train_X,train_y,test_X,test_y)\n",
    "\n",
    "lr_train=lr_clf.predict(train_X)\n",
    "lr_test=lr_clf.predict(test_X)\n",
    "lr_pr_train=lr_clf.predict_proba(train_X)[:,1]\n",
    "lr_pr_test=lr_clf.predict_proba(test_X)[:,1]\n",
    "fpr, tpr, tresholds = roc_curve(train_y,lr_pr_train)\n",
    "\n",
    "gini_train=2*(auc(fpr, tpr))-1\n",
    "print('Gini (Train) : {}'.format(round(gini_train,2)))\n",
    "\n",
    "fpr, tpr, tresholds = roc_curve(test_y,lr_pr_test)\n",
    "\n",
    "gini_test=2*(auc(fpr, tpr))-1\n",
    "print('Gini (Test) : {}'.format(round(gini_test,2)))"
   ]
  },
  {
   "cell_type": "code",
   "execution_count": 7,
   "metadata": {},
   "outputs": [
    {
     "name": "stdout",
     "output_type": "stream",
     "text": [
      "***********Random Forest**********\n"
     ]
    },
    {
     "ename": "ValueError",
     "evalue": "Input contains NaN, infinity or a value too large for dtype('float32').",
     "output_type": "error",
     "traceback": [
      "\u001b[0;31m---------------------------------------------------------------------------\u001b[0m",
      "\u001b[0;31mValueError\u001b[0m                                Traceback (most recent call last)",
      "\u001b[0;32m<ipython-input-7-780f0ae64b53>\u001b[0m in \u001b[0;36m<module>\u001b[0;34m()\u001b[0m\n\u001b[1;32m      2\u001b[0m \u001b[0;34m\u001b[0m\u001b[0m\n\u001b[1;32m      3\u001b[0m \u001b[0mrf_clf\u001b[0m\u001b[0;34m=\u001b[0m\u001b[0mRandomForestClassifier\u001b[0m\u001b[0;34m(\u001b[0m\u001b[0mn_estimators\u001b[0m\u001b[0;34m=\u001b[0m\u001b[0;36m100\u001b[0m\u001b[0;34m,\u001b[0m\u001b[0mmax_depth\u001b[0m\u001b[0;34m=\u001b[0m\u001b[0;36m5\u001b[0m\u001b[0;34m,\u001b[0m\u001b[0mmax_features\u001b[0m\u001b[0;34m=\u001b[0m\u001b[0;34m'sqrt'\u001b[0m\u001b[0;34m,\u001b[0m\u001b[0mrandom_state\u001b[0m\u001b[0;34m=\u001b[0m\u001b[0;36m1\u001b[0m\u001b[0;34m)\u001b[0m\u001b[0;34m\u001b[0m\u001b[0m\n\u001b[0;32m----> 4\u001b[0;31m \u001b[0mmodel\u001b[0m\u001b[0;34m(\u001b[0m\u001b[0mrf_clf\u001b[0m\u001b[0;34m,\u001b[0m\u001b[0mtrain_X\u001b[0m\u001b[0;34m,\u001b[0m\u001b[0mtrain_y\u001b[0m\u001b[0;34m,\u001b[0m\u001b[0mtest_X\u001b[0m\u001b[0;34m,\u001b[0m\u001b[0mtest_y\u001b[0m\u001b[0;34m)\u001b[0m\u001b[0;34m\u001b[0m\u001b[0m\n\u001b[0m\u001b[1;32m      5\u001b[0m \u001b[0mrf_train\u001b[0m\u001b[0;34m=\u001b[0m\u001b[0mrf_clf\u001b[0m\u001b[0;34m.\u001b[0m\u001b[0mpredict\u001b[0m\u001b[0;34m(\u001b[0m\u001b[0mtrain_X\u001b[0m\u001b[0;34m)\u001b[0m\u001b[0;34m\u001b[0m\u001b[0m\n\u001b[1;32m      6\u001b[0m \u001b[0mrf_test\u001b[0m\u001b[0;34m=\u001b[0m\u001b[0mrf_clf\u001b[0m\u001b[0;34m.\u001b[0m\u001b[0mpredict\u001b[0m\u001b[0;34m(\u001b[0m\u001b[0mtest_X\u001b[0m\u001b[0;34m)\u001b[0m\u001b[0;34m\u001b[0m\u001b[0m\n",
      "\u001b[0;32m<ipython-input-5-bf252ff0458f>\u001b[0m in \u001b[0;36mmodel\u001b[0;34m(clf, train_X, train_y, test_X, test_y)\u001b[0m\n\u001b[1;32m      1\u001b[0m \u001b[0;31m##Function to fit model on training data and gives accuracy and confusion matrix of train,validation and test data\u001b[0m\u001b[0;34m\u001b[0m\u001b[0;34m\u001b[0m\u001b[0m\n\u001b[1;32m      2\u001b[0m \u001b[0;32mdef\u001b[0m \u001b[0mmodel\u001b[0m\u001b[0;34m(\u001b[0m\u001b[0mclf\u001b[0m\u001b[0;34m,\u001b[0m\u001b[0mtrain_X\u001b[0m\u001b[0;34m,\u001b[0m\u001b[0mtrain_y\u001b[0m\u001b[0;34m,\u001b[0m\u001b[0mtest_X\u001b[0m\u001b[0;34m,\u001b[0m\u001b[0mtest_y\u001b[0m\u001b[0;34m)\u001b[0m\u001b[0;34m:\u001b[0m\u001b[0;34m\u001b[0m\u001b[0m\n\u001b[0;32m----> 3\u001b[0;31m     \u001b[0mclf\u001b[0m\u001b[0;34m.\u001b[0m\u001b[0mfit\u001b[0m\u001b[0;34m(\u001b[0m\u001b[0mtrain_X\u001b[0m\u001b[0;34m,\u001b[0m\u001b[0mtrain_y\u001b[0m\u001b[0;34m)\u001b[0m  \u001b[0;31m# fitting model\u001b[0m\u001b[0;34m\u001b[0m\u001b[0m\n\u001b[0m\u001b[1;32m      4\u001b[0m     \u001b[0;31m#scoring data\u001b[0m\u001b[0;34m\u001b[0m\u001b[0;34m\u001b[0m\u001b[0m\n\u001b[1;32m      5\u001b[0m \u001b[0;34m\u001b[0m\u001b[0m\n",
      "\u001b[0;32m~/anaconda3/lib/python3.6/site-packages/sklearn/ensemble/forest.py\u001b[0m in \u001b[0;36mfit\u001b[0;34m(self, X, y, sample_weight)\u001b[0m\n\u001b[1;32m    245\u001b[0m         \"\"\"\n\u001b[1;32m    246\u001b[0m         \u001b[0;31m# Validate or convert input data\u001b[0m\u001b[0;34m\u001b[0m\u001b[0;34m\u001b[0m\u001b[0m\n\u001b[0;32m--> 247\u001b[0;31m         \u001b[0mX\u001b[0m \u001b[0;34m=\u001b[0m \u001b[0mcheck_array\u001b[0m\u001b[0;34m(\u001b[0m\u001b[0mX\u001b[0m\u001b[0;34m,\u001b[0m \u001b[0maccept_sparse\u001b[0m\u001b[0;34m=\u001b[0m\u001b[0;34m\"csc\"\u001b[0m\u001b[0;34m,\u001b[0m \u001b[0mdtype\u001b[0m\u001b[0;34m=\u001b[0m\u001b[0mDTYPE\u001b[0m\u001b[0;34m)\u001b[0m\u001b[0;34m\u001b[0m\u001b[0m\n\u001b[0m\u001b[1;32m    248\u001b[0m         \u001b[0my\u001b[0m \u001b[0;34m=\u001b[0m \u001b[0mcheck_array\u001b[0m\u001b[0;34m(\u001b[0m\u001b[0my\u001b[0m\u001b[0;34m,\u001b[0m \u001b[0maccept_sparse\u001b[0m\u001b[0;34m=\u001b[0m\u001b[0;34m'csc'\u001b[0m\u001b[0;34m,\u001b[0m \u001b[0mensure_2d\u001b[0m\u001b[0;34m=\u001b[0m\u001b[0;32mFalse\u001b[0m\u001b[0;34m,\u001b[0m \u001b[0mdtype\u001b[0m\u001b[0;34m=\u001b[0m\u001b[0;32mNone\u001b[0m\u001b[0;34m)\u001b[0m\u001b[0;34m\u001b[0m\u001b[0m\n\u001b[1;32m    249\u001b[0m         \u001b[0;32mif\u001b[0m \u001b[0msample_weight\u001b[0m \u001b[0;32mis\u001b[0m \u001b[0;32mnot\u001b[0m \u001b[0;32mNone\u001b[0m\u001b[0;34m:\u001b[0m\u001b[0;34m\u001b[0m\u001b[0m\n",
      "\u001b[0;32m~/anaconda3/lib/python3.6/site-packages/sklearn/utils/validation.py\u001b[0m in \u001b[0;36mcheck_array\u001b[0;34m(array, accept_sparse, dtype, order, copy, force_all_finite, ensure_2d, allow_nd, ensure_min_samples, ensure_min_features, warn_on_dtype, estimator)\u001b[0m\n\u001b[1;32m    451\u001b[0m                              % (array.ndim, estimator_name))\n\u001b[1;32m    452\u001b[0m         \u001b[0;32mif\u001b[0m \u001b[0mforce_all_finite\u001b[0m\u001b[0;34m:\u001b[0m\u001b[0;34m\u001b[0m\u001b[0m\n\u001b[0;32m--> 453\u001b[0;31m             \u001b[0m_assert_all_finite\u001b[0m\u001b[0;34m(\u001b[0m\u001b[0marray\u001b[0m\u001b[0;34m)\u001b[0m\u001b[0;34m\u001b[0m\u001b[0m\n\u001b[0m\u001b[1;32m    454\u001b[0m \u001b[0;34m\u001b[0m\u001b[0m\n\u001b[1;32m    455\u001b[0m     \u001b[0mshape_repr\u001b[0m \u001b[0;34m=\u001b[0m \u001b[0m_shape_repr\u001b[0m\u001b[0;34m(\u001b[0m\u001b[0marray\u001b[0m\u001b[0;34m.\u001b[0m\u001b[0mshape\u001b[0m\u001b[0;34m)\u001b[0m\u001b[0;34m\u001b[0m\u001b[0m\n",
      "\u001b[0;32m~/anaconda3/lib/python3.6/site-packages/sklearn/utils/validation.py\u001b[0m in \u001b[0;36m_assert_all_finite\u001b[0;34m(X)\u001b[0m\n\u001b[1;32m     42\u001b[0m             and not np.isfinite(X).all()):\n\u001b[1;32m     43\u001b[0m         raise ValueError(\"Input contains NaN, infinity\"\n\u001b[0;32m---> 44\u001b[0;31m                          \" or a value too large for %r.\" % X.dtype)\n\u001b[0m\u001b[1;32m     45\u001b[0m \u001b[0;34m\u001b[0m\u001b[0m\n\u001b[1;32m     46\u001b[0m \u001b[0;34m\u001b[0m\u001b[0m\n",
      "\u001b[0;31mValueError\u001b[0m: Input contains NaN, infinity or a value too large for dtype('float32')."
     ]
    }
   ],
   "source": [
    "print( '***********Random Forest**********')\n",
    "\n",
    "rf_clf=RandomForestClassifier(n_estimators=100,max_depth=5,max_features='sqrt',random_state=1)\n",
    "model(rf_clf,train_X,train_y,test_X,test_y)\n",
    "rf_train=rf_clf.predict(train_X)\n",
    "rf_test=rf_clf.predict(test_X)\n",
    "rf_pr_train=rf_clf.predict_proba(train_X)[:,1]\n",
    "rf_pr_test=rf_clf.predict_proba(test_X)[:,1]\n",
    "\n",
    "var_imp=pd.DataFrame({'var':train_X.columns,'imp':rf_clf.feature_importances_})\n",
    "var_imp.sort_values('imp',ascending=True,inplace=True)\n",
    "plot_importance(var_imp['var'],var_imp['imp'])\n",
    "fpr, tpr, tresholds = roc_curve(train_y,rf_pr_train)\n",
    "\n",
    "gini_train=2*(auc(fpr, tpr))-1\n",
    "print('Gini (Train) : {}'.format(round(gini_train,2)))\n",
    "\n",
    "fpr, tpr, tresholds = roc_curve(test_y,rf_pr_test)\n",
    "\n",
    "gini_test=2*(auc(fpr, tpr))-1\n",
    "print('Gini (Test) : {}'.format(round(gini_test,2)))"
   ]
  },
  {
   "cell_type": "code",
   "execution_count": null,
   "metadata": {},
   "outputs": [
    {
     "name": "stdout",
     "output_type": "stream",
     "text": [
      "***********XGBoost**********\n",
      "[18:42:03] Tree method is automatically selected to be 'approx' for faster speed. to use old behavior(exact greedy algorithm on single machine), set tree_method to 'exact'\n"
     ]
    }
   ],
   "source": [
    "print( '***********XGBoost**********')\n",
    "\n",
    "xgb_clf=XGBClassifier(n_estimators=100,learning_rate=0.03,max_depth=12,subsample=0.4,colsample_bytree= 0.4,reg_alpha= 10,seed=1)\n",
    "model(xgb_clf,train_X,train_y,test_X,test_y)\n",
    "\n",
    "\n",
    "xgb_train=xgb_clf.predict(train_X)\n",
    "xgb_test=xgb_clf.predict(test_X)\n",
    "xgb_pr_train=xgb_clf.predict_proba(train_X)[:,1]\n",
    "xgb_pr_test=xgb_clf.predict_proba(test_X)[:,1]\n",
    "\n",
    "\n",
    "\n",
    "fpr, tpr, tresholds = roc_curve(train_y,xgb_pr_train)\n",
    "\n",
    "\n",
    "gini_train=2*(auc(fpr, tpr))-1\n",
    "print('Gini (Train) : {}'.format(round(gini_train,2)))\n",
    "fpr, tpr, tresholds = roc_curve(test_y,xgb_pr_test)\n",
    "\n",
    "\n",
    "gini_test=2*(auc(fpr, tpr))-1\n",
    "print('Gini (Test) : {}'.format(round(gini_test,2)))\n",
    "\n",
    "import pickle\n",
    "pickle.dump(xgb_clf, open(\"/data/kaggle_microsoft/xgb2.pickle.dat\", \"wb\"))\n"
   ]
  },
  {
   "cell_type": "code",
   "execution_count": null,
   "metadata": {
    "collapsed": true
   },
   "outputs": [],
   "source": [
    "predictions = xgb_clf.predict_proba(test_use)[:,1]\n",
    "sample_sub = pd.read_csv('/data/kaggle_microsoft/sample_submission.csv')\n",
    "del sample_sub['HasDetections']\n",
    "sample_sub['HasDetections'] = predictions\n",
    "sample_sub.to_csv('kaggle_microsoft_sub2.csv', index = False)"
   ]
  },
  {
   "cell_type": "markdown",
   "metadata": {},
   "source": [
    "# Others"
   ]
  },
  {
   "cell_type": "code",
   "execution_count": 15,
   "metadata": {},
   "outputs": [
    {
     "name": "stdout",
     "output_type": "stream",
     "text": [
      "\n",
      "Training Accuracy:0.6395256259710546\n",
      "Training Confusion Matrix \n",
      "[[1873535 1116401]\n",
      " [1038296 1949161]]\n",
      "Classification Report: \n",
      "             precision    recall  f1-score   support\n",
      "\n",
      "          0       0.64      0.63      0.63   2989936\n",
      "          1       0.64      0.65      0.64   2987457\n",
      "\n",
      "avg / total       0.64      0.64      0.64   5977393\n",
      "\n",
      "\n",
      "AUC:0.7008515171785905\n",
      "\n",
      "\n",
      "Test Accuracy:0.6390772700562822\n",
      "Test Confusion Matrix \n",
      "[[921666 550989]\n",
      " [511600 959835]]\n",
      "Classification Report: \n",
      "             precision    recall  f1-score   support\n",
      "\n",
      "          0       0.64      0.63      0.63   1472655\n",
      "          1       0.64      0.65      0.64   1471435\n",
      "\n",
      "avg / total       0.64      0.64      0.64   2944090\n",
      "\n",
      "\n",
      "AUC:0.7001858434157444\n",
      "\n"
     ]
    },
    {
     "data": {
      "image/png": "[encoded data removed]",
      "text/plain": [
       "<Figure size 576x432 with 1 Axes>"
      ]
     },
     "metadata": {},
     "output_type": "display_data"
    }
   ],
   "source": [
    "clf = xgb_clf\n",
    "pred_tr=clf.predict(train_X)\n",
    "pred_test=clf.predict(test_X)\n",
    "fig, ax = plt.subplots(figsize=(8,6))\n",
    "print ('\\nTraining Accuracy:{}'.format(accuracy_score(train_y,pred_tr)))\n",
    "print ('Training Confusion Matrix \\n{}'.format(confusion_matrix(train_y,pred_tr)))\n",
    "print('Classification Report: \\n{}'.format(classification_report(train_y,pred_tr)))\n",
    "pred_pr_tr=clf.predict_proba(train_X)[:,1]\n",
    "pred_pr_test=clf.predict_proba(test_X)[:,1]\n",
    "fpr,tpr,threshold=roc_curve(train_y,pred_pr_tr)\n",
    "ax.plot(fpr,tpr,label='Training AUC')\n",
    "print ('\\nAUC:{}\\n'.format(auc(fpr,tpr)))\n",
    "\n",
    "print ('\\nTest Accuracy:{}'.format(accuracy_score(test_y,pred_test)))\n",
    "print ('Test Confusion Matrix \\n{}'.format(confusion_matrix(test_y,pred_test)))\n",
    "print('Classification Report: \\n{}'.format(classification_report(test_y,pred_test)))\n",
    "fpr,tpr,threshold=roc_curve(test_y,pred_pr_test)\n",
    "print ('\\nAUC:{}\\n'.format(auc(fpr,tpr)))\n",
    "ax.plot(fpr,tpr,label='Test AUC')\n",
    "plt.xlabel('False Positive Rate')\n",
    "plt.ylabel('True Positive Rate')\n",
    "ax.legend(loc='best')\n",
    "plt.show()"
   ]
  },
  {
   "cell_type": "code",
   "execution_count": 16,
   "metadata": {},
   "outputs": [
    {
     "name": "stdout",
     "output_type": "stream",
     "text": [
      "Gini (Train) : 0.4\n",
      "Gini (Test) : 0.4\n"
     ]
    }
   ],
   "source": [
    "xgb_train=xgb_clf.predict(train_X)\n",
    "xgb_test=xgb_clf.predict(test_X)\n",
    "xgb_pr_train=xgb_clf.predict_proba(train_X)[:,1]\n",
    "xgb_pr_test=xgb_clf.predict_proba(test_X)[:,1]\n",
    "\n",
    "\n",
    "\n",
    "fpr, tpr, tresholds = roc_curve(train_y,xgb_pr_train)\n",
    "\n",
    "\n",
    "gini_train=2*(auc(fpr, tpr))-1\n",
    "print('Gini (Train) : {}'.format(round(gini_train,2)))\n",
    "fpr, tpr, tresholds = roc_curve(test_y,xgb_pr_test)\n",
    "\n",
    "\n",
    "gini_test=2*(auc(fpr, tpr))-1\n",
    "print('Gini (Test) : {}'.format(round(gini_test,2)))"
   ]
  },
  {
   "cell_type": "code",
   "execution_count": null,
   "metadata": {
    "collapsed": true
   },
   "outputs": [],
   "source": [
    "import pickle\n",
    "pickle.dump(xgb_clf, open(\"/data/kaggle_microsoft/xgb1.pickle.dat\", \"wb\"))"
   ]
  }
 ],
 "metadata": {
  "kernelspec": {
   "display_name": "Python 3",
   "language": "python",
   "name": "python3"
  },
  "language_info": {
   "codemirror_mode": {
    "name": "ipython",
    "version": 3
   },
   "file_extension": ".py",
   "mimetype": "text/x-python",
   "name": "python",
   "nbconvert_exporter": "python",
   "pygments_lexer": "ipython3",
   "version": "3.6.3"
  }
 },
 "nbformat": 4,
 "nbformat_minor": 2
}
